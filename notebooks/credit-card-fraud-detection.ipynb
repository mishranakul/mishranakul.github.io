{
 "cells": [
  {
   "cell_type": "markdown",
   "metadata": {
    "_uuid": "d56cdd400c20ebf98a0da7abf713b676694242e1"
   },
   "source": [
    "#  Introduction to Dataset\n",
    "\n",
    "**From https://www.kaggle.com/mlg-ulb/creditcardfraud/home :** \n",
    "\n",
    "The datasets contains transactions made by credit cards in September 2013 by european cardholders. This dataset presents transactions that occurred in two days, where we have 492 frauds out of 284,807 transactions. The dataset is highly unbalanced, the positive class (frauds) account for 0.172% of all transactions.\n",
    "\n",
    "**PCA Features:**\n",
    "\n",
    "It contains only numerical input variables which are the result of a PCA transformation. Features V1, V2, ... V28 are the principal components obtained with PCA.\n",
    "\n",
    "**Time:**\n",
    "\n",
    "Feature 'Time' contains the seconds elapsed between each transaction and the first transaction in the dataset. \n",
    "\n",
    "**Amount:** \n",
    "\n",
    "The feature 'Amount' is the transaction Amount.\n",
    "\n",
    "**Class:**\n",
    "\n",
    "Feature 'Class' is the response variable and it takes value 1 in case of fraud and 0 otherwise.\n",
    "\n"
   ]
  },
  {
   "cell_type": "code",
   "execution_count": 1,
   "metadata": {
    "_uuid": "f4151dd4dbc82f1f9b071c78990c998709f3736a",
    "scrolled": true
   },
   "outputs": [
    {
     "name": "stderr",
     "output_type": "stream",
     "text": [
      "Using TensorFlow backend.\n"
     ]
    },
    {
     "data": {
      "text/html": [
       "<div>\n",
       "<style scoped>\n",
       "    .dataframe tbody tr th:only-of-type {\n",
       "        vertical-align: middle;\n",
       "    }\n",
       "\n",
       "    .dataframe tbody tr th {\n",
       "        vertical-align: top;\n",
       "    }\n",
       "\n",
       "    .dataframe thead th {\n",
       "        text-align: right;\n",
       "    }\n",
       "</style>\n",
       "<table border=\"1\" class=\"dataframe\">\n",
       "  <thead>\n",
       "    <tr style=\"text-align: right;\">\n",
       "      <th></th>\n",
       "      <th>Time</th>\n",
       "      <th>V1</th>\n",
       "      <th>V2</th>\n",
       "      <th>V3</th>\n",
       "      <th>V4</th>\n",
       "      <th>V5</th>\n",
       "      <th>V6</th>\n",
       "      <th>V7</th>\n",
       "      <th>V8</th>\n",
       "      <th>V9</th>\n",
       "      <th>V10</th>\n",
       "      <th>V11</th>\n",
       "      <th>V12</th>\n",
       "      <th>V13</th>\n",
       "      <th>V14</th>\n",
       "      <th>V15</th>\n",
       "      <th>V16</th>\n",
       "      <th>V17</th>\n",
       "      <th>V18</th>\n",
       "      <th>V19</th>\n",
       "      <th>V20</th>\n",
       "      <th>V21</th>\n",
       "      <th>V22</th>\n",
       "      <th>V23</th>\n",
       "      <th>V24</th>\n",
       "      <th>V25</th>\n",
       "      <th>V26</th>\n",
       "      <th>V27</th>\n",
       "      <th>V28</th>\n",
       "      <th>Amount</th>\n",
       "      <th>Class</th>\n",
       "    </tr>\n",
       "  </thead>\n",
       "  <tbody>\n",
       "    <tr>\n",
       "      <th>0</th>\n",
       "      <td>0.0</td>\n",
       "      <td>-1.359807</td>\n",
       "      <td>-0.072781</td>\n",
       "      <td>2.536347</td>\n",
       "      <td>1.378155</td>\n",
       "      <td>-0.338321</td>\n",
       "      <td>0.462388</td>\n",
       "      <td>0.239599</td>\n",
       "      <td>0.098698</td>\n",
       "      <td>0.363787</td>\n",
       "      <td>0.090794</td>\n",
       "      <td>-0.551600</td>\n",
       "      <td>-0.617801</td>\n",
       "      <td>-0.991390</td>\n",
       "      <td>-0.311169</td>\n",
       "      <td>1.468177</td>\n",
       "      <td>-0.470401</td>\n",
       "      <td>0.207971</td>\n",
       "      <td>0.025791</td>\n",
       "      <td>0.403993</td>\n",
       "      <td>0.251412</td>\n",
       "      <td>-0.018307</td>\n",
       "      <td>0.277838</td>\n",
       "      <td>-0.110474</td>\n",
       "      <td>0.066928</td>\n",
       "      <td>0.128539</td>\n",
       "      <td>-0.189115</td>\n",
       "      <td>0.133558</td>\n",
       "      <td>-0.021053</td>\n",
       "      <td>149.62</td>\n",
       "      <td>0</td>\n",
       "    </tr>\n",
       "    <tr>\n",
       "      <th>1</th>\n",
       "      <td>0.0</td>\n",
       "      <td>1.191857</td>\n",
       "      <td>0.266151</td>\n",
       "      <td>0.166480</td>\n",
       "      <td>0.448154</td>\n",
       "      <td>0.060018</td>\n",
       "      <td>-0.082361</td>\n",
       "      <td>-0.078803</td>\n",
       "      <td>0.085102</td>\n",
       "      <td>-0.255425</td>\n",
       "      <td>-0.166974</td>\n",
       "      <td>1.612727</td>\n",
       "      <td>1.065235</td>\n",
       "      <td>0.489095</td>\n",
       "      <td>-0.143772</td>\n",
       "      <td>0.635558</td>\n",
       "      <td>0.463917</td>\n",
       "      <td>-0.114805</td>\n",
       "      <td>-0.183361</td>\n",
       "      <td>-0.145783</td>\n",
       "      <td>-0.069083</td>\n",
       "      <td>-0.225775</td>\n",
       "      <td>-0.638672</td>\n",
       "      <td>0.101288</td>\n",
       "      <td>-0.339846</td>\n",
       "      <td>0.167170</td>\n",
       "      <td>0.125895</td>\n",
       "      <td>-0.008983</td>\n",
       "      <td>0.014724</td>\n",
       "      <td>2.69</td>\n",
       "      <td>0</td>\n",
       "    </tr>\n",
       "    <tr>\n",
       "      <th>2</th>\n",
       "      <td>1.0</td>\n",
       "      <td>-1.358354</td>\n",
       "      <td>-1.340163</td>\n",
       "      <td>1.773209</td>\n",
       "      <td>0.379780</td>\n",
       "      <td>-0.503198</td>\n",
       "      <td>1.800499</td>\n",
       "      <td>0.791461</td>\n",
       "      <td>0.247676</td>\n",
       "      <td>-1.514654</td>\n",
       "      <td>0.207643</td>\n",
       "      <td>0.624501</td>\n",
       "      <td>0.066084</td>\n",
       "      <td>0.717293</td>\n",
       "      <td>-0.165946</td>\n",
       "      <td>2.345865</td>\n",
       "      <td>-2.890083</td>\n",
       "      <td>1.109969</td>\n",
       "      <td>-0.121359</td>\n",
       "      <td>-2.261857</td>\n",
       "      <td>0.524980</td>\n",
       "      <td>0.247998</td>\n",
       "      <td>0.771679</td>\n",
       "      <td>0.909412</td>\n",
       "      <td>-0.689281</td>\n",
       "      <td>-0.327642</td>\n",
       "      <td>-0.139097</td>\n",
       "      <td>-0.055353</td>\n",
       "      <td>-0.059752</td>\n",
       "      <td>378.66</td>\n",
       "      <td>0</td>\n",
       "    </tr>\n",
       "    <tr>\n",
       "      <th>3</th>\n",
       "      <td>1.0</td>\n",
       "      <td>-0.966272</td>\n",
       "      <td>-0.185226</td>\n",
       "      <td>1.792993</td>\n",
       "      <td>-0.863291</td>\n",
       "      <td>-0.010309</td>\n",
       "      <td>1.247203</td>\n",
       "      <td>0.237609</td>\n",
       "      <td>0.377436</td>\n",
       "      <td>-1.387024</td>\n",
       "      <td>-0.054952</td>\n",
       "      <td>-0.226487</td>\n",
       "      <td>0.178228</td>\n",
       "      <td>0.507757</td>\n",
       "      <td>-0.287924</td>\n",
       "      <td>-0.631418</td>\n",
       "      <td>-1.059647</td>\n",
       "      <td>-0.684093</td>\n",
       "      <td>1.965775</td>\n",
       "      <td>-1.232622</td>\n",
       "      <td>-0.208038</td>\n",
       "      <td>-0.108300</td>\n",
       "      <td>0.005274</td>\n",
       "      <td>-0.190321</td>\n",
       "      <td>-1.175575</td>\n",
       "      <td>0.647376</td>\n",
       "      <td>-0.221929</td>\n",
       "      <td>0.062723</td>\n",
       "      <td>0.061458</td>\n",
       "      <td>123.50</td>\n",
       "      <td>0</td>\n",
       "    </tr>\n",
       "    <tr>\n",
       "      <th>4</th>\n",
       "      <td>2.0</td>\n",
       "      <td>-1.158233</td>\n",
       "      <td>0.877737</td>\n",
       "      <td>1.548718</td>\n",
       "      <td>0.403034</td>\n",
       "      <td>-0.407193</td>\n",
       "      <td>0.095921</td>\n",
       "      <td>0.592941</td>\n",
       "      <td>-0.270533</td>\n",
       "      <td>0.817739</td>\n",
       "      <td>0.753074</td>\n",
       "      <td>-0.822843</td>\n",
       "      <td>0.538196</td>\n",
       "      <td>1.345852</td>\n",
       "      <td>-1.119670</td>\n",
       "      <td>0.175121</td>\n",
       "      <td>-0.451449</td>\n",
       "      <td>-0.237033</td>\n",
       "      <td>-0.038195</td>\n",
       "      <td>0.803487</td>\n",
       "      <td>0.408542</td>\n",
       "      <td>-0.009431</td>\n",
       "      <td>0.798278</td>\n",
       "      <td>-0.137458</td>\n",
       "      <td>0.141267</td>\n",
       "      <td>-0.206010</td>\n",
       "      <td>0.502292</td>\n",
       "      <td>0.219422</td>\n",
       "      <td>0.215153</td>\n",
       "      <td>69.99</td>\n",
       "      <td>0</td>\n",
       "    </tr>\n",
       "  </tbody>\n",
       "</table>\n",
       "</div>"
      ],
      "text/plain": [
       "   Time        V1        V2        V3  ...         V27       V28  Amount  Class\n",
       "0   0.0 -1.359807 -0.072781  2.536347  ...    0.133558 -0.021053  149.62      0\n",
       "1   0.0  1.191857  0.266151  0.166480  ...   -0.008983  0.014724    2.69      0\n",
       "2   1.0 -1.358354 -1.340163  1.773209  ...   -0.055353 -0.059752  378.66      0\n",
       "3   1.0 -0.966272 -0.185226  1.792993  ...    0.062723  0.061458  123.50      0\n",
       "4   2.0 -1.158233  0.877737  1.548718  ...    0.219422  0.215153   69.99      0\n",
       "\n",
       "[5 rows x 31 columns]"
      ]
     },
     "execution_count": 1,
     "metadata": {},
     "output_type": "execute_result"
    }
   ],
   "source": [
    "import numpy as np\n",
    "import pandas as pd\n",
    "import matplotlib.pyplot as plt\n",
    "import seaborn as sns\n",
    "import collections\n",
    "\n",
    "# Classifier Libraries\n",
    "from sklearn.linear_model import LogisticRegression\n",
    "from sklearn.svm import SVC\n",
    "from sklearn.neighbors import KNeighborsClassifier\n",
    "from sklearn.tree import DecisionTreeClassifier\n",
    "from sklearn.ensemble import RandomForestClassifier\n",
    "\n",
    "\n",
    "# Other Libraries\n",
    "from sklearn.model_selection import train_test_split, StratifiedShuffleSplit, GridSearchCV, cross_val_score\n",
    "from sklearn.pipeline import make_pipeline\n",
    "from imblearn.pipeline import make_pipeline as imbalanced_make_pipeline\n",
    "from imblearn.over_sampling import SMOTE, ADASYN\n",
    "from imblearn.under_sampling import RandomUnderSampler\n",
    "from sklearn.metrics import make_scorer, precision_score, recall_score, classification_report, confusion_matrix\n",
    "from collections import Counter\n",
    "from sklearn.preprocessing import RobustScaler\n",
    "import warnings\n",
    "warnings.filterwarnings(\"ignore\")\n",
    "\n",
    "\n",
    "data = pd.read_csv('../input/creditcard.csv',sep=',')\n",
    "data.head()"
   ]
  },
  {
   "cell_type": "markdown",
   "metadata": {
    "_uuid": "ddfe042c2be3ccc311a9f0944365a7bf00274f5a"
   },
   "source": [
    "# Exploratory Data Analysis"
   ]
  },
  {
   "cell_type": "code",
   "execution_count": 2,
   "metadata": {
    "_uuid": "4ee8419822a27fa866e8eea6ab0454a6e20d0a9a",
    "scrolled": false
   },
   "outputs": [
    {
     "name": "stdout",
     "output_type": "stream",
     "text": [
      "Index(['Time', 'V1', 'V2', 'V3', 'V4', 'V5', 'V6', 'V7', 'V8', 'V9', 'V10',\n",
      "       'V11', 'V12', 'V13', 'V14', 'V15', 'V16', 'V17', 'V18', 'V19', 'V20',\n",
      "       'V21', 'V22', 'V23', 'V24', 'V25', 'V26', 'V27', 'V28', 'Amount',\n",
      "       'Class'],\n",
      "      dtype='object')\n"
     ]
    }
   ],
   "source": [
    "print(data.columns)"
   ]
  },
  {
   "cell_type": "code",
   "execution_count": 3,
   "metadata": {
    "_kg_hide-input": true,
    "_uuid": "d0ec36ceed7521cd1e770154d76ddc7cb7e820af",
    "scrolled": false
   },
   "outputs": [
    {
     "data": {
      "text/plain": [
       "(284807, 31)"
      ]
     },
     "execution_count": 3,
     "metadata": {},
     "output_type": "execute_result"
    }
   ],
   "source": [
    "data.shape"
   ]
  },
  {
   "cell_type": "markdown",
   "metadata": {
    "_uuid": "3fe0f8e19f73dc48a94ab59ae19e1d68571306a3"
   },
   "source": [
    "## Checking for Missing Data.\n",
    "- Fortunately, data integrity is perfect. All non-null, and no mixed types."
   ]
  },
  {
   "cell_type": "code",
   "execution_count": 4,
   "metadata": {
    "_uuid": "05c8758df5e17f225d52219f232d1346b9f13c4e",
    "scrolled": true
   },
   "outputs": [
    {
     "name": "stdout",
     "output_type": "stream",
     "text": [
      "<class 'pandas.core.frame.DataFrame'>\n",
      "RangeIndex: 284807 entries, 0 to 284806\n",
      "Data columns (total 31 columns):\n",
      "Time      284807 non-null float64\n",
      "V1        284807 non-null float64\n",
      "V2        284807 non-null float64\n",
      "V3        284807 non-null float64\n",
      "V4        284807 non-null float64\n",
      "V5        284807 non-null float64\n",
      "V6        284807 non-null float64\n",
      "V7        284807 non-null float64\n",
      "V8        284807 non-null float64\n",
      "V9        284807 non-null float64\n",
      "V10       284807 non-null float64\n",
      "V11       284807 non-null float64\n",
      "V12       284807 non-null float64\n",
      "V13       284807 non-null float64\n",
      "V14       284807 non-null float64\n",
      "V15       284807 non-null float64\n",
      "V16       284807 non-null float64\n",
      "V17       284807 non-null float64\n",
      "V18       284807 non-null float64\n",
      "V19       284807 non-null float64\n",
      "V20       284807 non-null float64\n",
      "V21       284807 non-null float64\n",
      "V22       284807 non-null float64\n",
      "V23       284807 non-null float64\n",
      "V24       284807 non-null float64\n",
      "V25       284807 non-null float64\n",
      "V26       284807 non-null float64\n",
      "V27       284807 non-null float64\n",
      "V28       284807 non-null float64\n",
      "Amount    284807 non-null float64\n",
      "Class     284807 non-null int64\n",
      "dtypes: float64(30), int64(1)\n",
      "memory usage: 67.4 MB\n"
     ]
    }
   ],
   "source": [
    "data.info()"
   ]
  },
  {
   "cell_type": "markdown",
   "metadata": {
    "_uuid": "e16e1b16d7dbce4af4fd87392080629dfd35d76b"
   },
   "source": [
    "## Class Imbalance\n",
    "- This is the most unique quality about this dataset. Most of the steps taken later will be about multiple ways of dealing with imbalanced data."
   ]
  },
  {
   "cell_type": "code",
   "execution_count": 5,
   "metadata": {
    "_cell_guid": "b3220b5c-f3db-4553-9a76-ccb1347d5291",
    "_uuid": "af843d503f5b3f0e1b049d973ec060cee4db52d9",
    "scrolled": true
   },
   "outputs": [
    {
     "name": "stdout",
     "output_type": "stream",
     "text": [
      "Distribuition of Normal(0) and Frauds(1): \n",
      "0    284315\n",
      "1       492\n",
      "Name: Class, dtype: int64\n",
      "\n",
      "Non-Frauds 99.83 % of the dataset\n",
      "Frauds 0.17 % of the dataset\n"
     ]
    },
    {
     "data": {
      "image/png": "[encoded data removed]",
      "text/plain": [
       "<Figure size 504x360 with 1 Axes>"
      ]
     },
     "metadata": {},
     "output_type": "display_data"
    }
   ],
   "source": [
    "#Lets start looking the difference by Normal and Fraud transactions\n",
    "print(\"Distribuition of Normal(0) and Frauds(1): \")\n",
    "print(data[\"Class\"].value_counts())\n",
    "print('')\n",
    "\n",
    "# The classes are heavily skewed we need to solve this issue later.\n",
    "print('Non-Frauds', round(data['Class'].value_counts()[0]/len(data) * 100,2), '% of the dataset')\n",
    "print('Frauds', round(data['Class'].value_counts()[1]/len(data) * 100,2), '% of the dataset')\n",
    "\n",
    "plt.figure(figsize=(7,5))\n",
    "sns.countplot(data['Class'])\n",
    "plt.title(\"Class Count\", fontsize=18)\n",
    "plt.xlabel(\"Is fraud?\", fontsize=15)\n",
    "plt.ylabel(\"Count\", fontsize=15)\n",
    "plt.show()"
   ]
  },
  {
   "cell_type": "markdown",
   "metadata": {
    "_uuid": "dbaebb1213d9e56d9411e6d265c225b262529790"
   },
   "source": [
    "## Visualizing distributions. \n",
    "- Features have different central tendencies and need to be normalized to make better sense of them.\n",
    "- 'Time' is encoded in seconds, out of a 24Hr day. We'll need to transform it in order to visualize it properly."
   ]
  },
  {
   "cell_type": "code",
   "execution_count": 6,
   "metadata": {
    "_uuid": "57c67a7872371f7f1152ec9abe3a219997e3f856",
    "scrolled": false
   },
   "outputs": [
    {
     "data": {
      "image/png": "[encoded data removed]",
      "text/plain": [
       "<Figure size 1152x288 with 1 Axes>"
      ]
     },
     "metadata": {},
     "output_type": "display_data"
    },
    {
     "data": {
      "image/png": "[encoded data removed]",
      "text/plain": [
       "<Figure size 1152x288 with 1 Axes>"
      ]
     },
     "metadata": {},
     "output_type": "display_data"
    }
   ],
   "source": [
    "plt.figure(figsize=(16,4))\n",
    "data.iloc[:,:-1].boxplot()\n",
    "plt.title('(Raw) Distribution of Features', fontsize=17)\n",
    "plt.show()\n",
    "\n",
    "plt.figure(figsize=(16,4))\n",
    "np.log(data.iloc[:,:-1]).boxplot()\n",
    "plt.title('(Log) Distribution of Features', fontsize=17)\n",
    "plt.show()"
   ]
  },
  {
   "cell_type": "markdown",
   "metadata": {
    "_uuid": "f13909f871a09b2a2affa8eb28424da5dc450d39"
   },
   "source": [
    "- It's clear that `Time` and `Amount` are in a different range compared to the `PCA` features."
   ]
  },
  {
   "cell_type": "markdown",
   "metadata": {
    "_uuid": "934409a8c484ad395142ad2b9f9bc51b79fba665"
   },
   "source": [
    "## 'Amount' Distribution\n",
    "\n",
    "- Variable isn't normalized.\n",
    "- There's high concentrations of small-amount transactions. And many dispersed large-amount outliers, all the way up to \\$25,000\n",
    "- 85\\% of data is below \\$140\n",
    "- Top 1% of transaction amounts are between 1017.97 and 25691.16\n",
    "\n",
    "**Amount of frauds**\n",
    "- 80% of Frauds are less than: \\$152.34."
   ]
  },
  {
   "cell_type": "code",
   "execution_count": 7,
   "metadata": {
    "_uuid": "c334491ef582667070370ff00726da21393a531f"
   },
   "outputs": [
    {
     "data": {
      "image/png": "[encoded data removed]",
      "text/plain": [
       "<Figure size 1152x360 with 1 Axes>"
      ]
     },
     "metadata": {},
     "output_type": "display_data"
    },
    {
     "data": {
      "image/png": "[encoded data removed]",
      "text/plain": [
       "<Figure size 1152x360 with 1 Axes>"
      ]
     },
     "metadata": {},
     "output_type": "display_data"
    }
   ],
   "source": [
    "#Now look at Fraud Amounts\n",
    "plt.figure(figsize=(16,5))\n",
    "sns.boxplot(x=data.Amount[data.Class == 1])\n",
    "plt.title('Distribution of (Fraud) Amounts',fontsize=17)\n",
    "plt.show()\n",
    "#Now look at Non-Fraud Amounts\n",
    "plt.figure(figsize=(16,5))\n",
    "sns.boxplot(x=data.Amount[data.Class == 0])\n",
    "plt.title('Distribution of (Non-Fraud) Amounts',fontsize=17)\n",
    "plt.show()"
   ]
  },
  {
   "cell_type": "code",
   "execution_count": 8,
   "metadata": {
    "_uuid": "401215691dc0c0ddc0419ff0ed450a961113104c",
    "scrolled": false
   },
   "outputs": [
    {
     "name": "stdout",
     "output_type": "stream",
     "text": [
      "Top 85% of transaction amounts: 140.0\n",
      "Top 1% of transaction amounts: 1017.97\n",
      "Largest transaction amount: 25691.16\n",
      "80% of Frauds are less than: 152.34\n"
     ]
    }
   ],
   "source": [
    "print('Top 85% of transaction amounts:', round(data.Amount.quantile(.85),2))\n",
    "print('Top 1% of transaction amounts:', round(data.Amount.quantile(.99),2))\n",
    "print('Largest transaction amount:', round(data.Amount.quantile(1),2))\n",
    "print('80% of Frauds are less than:', round(data.Amount[data.Class==1].quantile(.80),2))"
   ]
  },
  {
   "cell_type": "markdown",
   "metadata": {
    "_uuid": "519a7050aa44e8ff73164c8da375f757873d460a"
   },
   "source": [
    "## 'Time' Distribution\n",
    "- I'll convert 'Time' to hours and minutes, which will allow for better visualization.\n",
    "- 'Time' distribution (by second) shows two normal curves, which might reveal something meaningful for predicting purposes. This will be the basis for a time-based feature engineering."
   ]
  },
  {
   "cell_type": "code",
   "execution_count": 9,
   "metadata": {
    "_uuid": "7a8db521688049b511ef05135616b48edc5073d4",
    "scrolled": false
   },
   "outputs": [
    {
     "data": {
      "text/plain": [
       "Text(0, 0.5, 'Amount')"
      ]
     },
     "execution_count": 9,
     "metadata": {},
     "output_type": "execute_result"
    },
    {
     "data": {
      "image/png": "[encoded data removed]",
      "text/plain": [
       "<Figure size 1080x576 with 2 Axes>"
      ]
     },
     "metadata": {},
     "output_type": "display_data"
    }
   ],
   "source": [
    "f, (ax1, ax2) = plt.subplots(2, 1, sharex=True, figsize=(15, 8))\n",
    "\n",
    "ax1.scatter(data.Time[data.Class == 1],\n",
    "            data.Amount[data.Class == 1], color='red')\n",
    "ax1.set_title('Fraud')\n",
    "\n",
    "ax2.scatter(data.Time[data.Class == 0],\n",
    "            data.Amount[data.Class == 0],  color='navy')\n",
    "ax2.set_title('Normal')\n",
    "\n",
    "plt.xlabel('Time (in Seconds)')\n",
    "plt.ylabel('Amount')"
   ]
  },
  {
   "cell_type": "code",
   "execution_count": 10,
   "metadata": {
    "_uuid": "e7c0e7464c10ba7c24c3bdc2738e2dab895b758d"
   },
   "outputs": [],
   "source": [
    "# Create a EDA dataframe for the time units and visualizations\n",
    "eda = pd.DataFrame(data.copy())\n",
    "\n",
    "# Tell timedelta to interpret the Time as second units\n",
    "timedelta = pd.to_timedelta(eda['Time'], unit='s')\n",
    "\n",
    "# Create a hours feature from timedelta\n",
    "eda['Time_hour'] = (timedelta.dt.components.hours).astype(int)"
   ]
  },
  {
   "cell_type": "code",
   "execution_count": 11,
   "metadata": {
    "_uuid": "8b09ea119b5c33309dc8363f3f0c9de56a71c3bb",
    "scrolled": true
   },
   "outputs": [
    {
     "data": {
      "image/png": "[encoded data removed]",
      "text/plain": [
       "<Figure size 1080x648 with 2 Axes>"
      ]
     },
     "metadata": {},
     "output_type": "display_data"
    }
   ],
   "source": [
    "f, (ax1, ax2) = plt.subplots(2, 1, sharex=True, figsize=(15,9))\n",
    "f.suptitle('Amount per transaction by class')\n",
    "\n",
    "bins = 50\n",
    "\n",
    "ax1.hist(data[data['Class']==0].Amount, bins = bins, color='red')\n",
    "ax1.set_title('Fraud')\n",
    "\n",
    "ax2.hist(data[data['Class']==0].Amount, bins = bins, color='blue')\n",
    "ax2.set_title('Normal')\n",
    "\n",
    "plt.xlabel('Amount ($)')\n",
    "plt.ylabel('Number of Transactions')\n",
    "plt.xlim((0, 20000))\n",
    "plt.yscale('log')\n",
    "plt.show();"
   ]
  },
  {
   "cell_type": "markdown",
   "metadata": {
    "_uuid": "e95bf36257ecda0047e9721697d4d4deeb50dbc4"
   },
   "source": [
    "#  Modeling Outcome of Interest\n",
    "\n",
    "## The Problem of Imbalanced Data (How NOT to do it...)\n",
    "\n",
    "- Here I'll do a base-line prediction of frauds using default settings on the data without any modifications.\n",
    "- This serves to show the need for techniques on Class Imbalance.\n",
    "---\n",
    "**Approach**\n",
    "- Below I split data into train and test groups. \n",
    "- I'll make sure the groups maintain the same class balance as the whole set. That way they can better represent the whole, for testing purposes."
   ]
  },
  {
   "cell_type": "code",
   "execution_count": 12,
   "metadata": {
    "_uuid": "21d9a4b1eb8cdc8fb3bf7684a52c5c6afa1146da"
   },
   "outputs": [
    {
     "name": "stdout",
     "output_type": "stream",
     "text": [
      "TEST GROUP\n",
      "Size: 56962\n",
      "Frauds percentage: 0.0017204452090867595\n",
      "Nonfrauds percentage: 0.9982795547909132\n",
      "\n",
      "TRAIN GROUP\n",
      "Size: 227845\n",
      "Frauds percentage: 0.001729245759178389\n",
      "Nonfrauds percentage: 0.9982707542408216\n"
     ]
    }
   ],
   "source": [
    "# Define outcome and predictors to split into train and test groups\n",
    "y = data['Class']\n",
    "X = data.drop('Class', 1)\n",
    "\n",
    "X_train, X_test, y_train, y_test = train_test_split(\n",
    "    X, y, test_size=0.2, random_state=42)\n",
    "\n",
    "# Class balance in test group\n",
    "print(\"TEST GROUP\")\n",
    "print('Size:',y_test.count())\n",
    "print(\"Frauds percentage:\",\n",
    "      y_test.value_counts()[1]/y_test.count())\n",
    "print(\"Nonfrauds percentage:\",\n",
    "      y_test.value_counts()[0]/y_test.count())\n",
    "\n",
    "# Class balance in train group\n",
    "print(\"\\nTRAIN GROUP\")\n",
    "print('Size:',y_train.count())\n",
    "print(\"Frauds percentage:\",\n",
    "      y_train.value_counts()[1]/y_train.count())\n",
    "print(\"Nonfrauds percentage:\",\n",
    "      y_train.value_counts()[0]/y_train.count())"
   ]
  },
  {
   "cell_type": "code",
   "execution_count": 13,
   "metadata": {
    "_uuid": "47ebd8de7adf3ad61c3a98540cf031a2208a1db0",
    "scrolled": false
   },
   "outputs": [
    {
     "name": "stdout",
     "output_type": "stream",
     "text": [
      "TRAIN GROUP\n",
      "\n",
      "Cross-validation accuracy scores: [0.99906516 0.99897298 0.99873598]\n",
      "Mean score: 0.9989247069698471\n",
      "\n",
      "TEST GROUP\n",
      "\n",
      "Accuracy score: 0.9989993328885924\n",
      "\n",
      "Classification report:\n",
      "\n",
      "              precision    recall  f1-score   support\n",
      "\n",
      "           0       1.00      1.00      1.00     56864\n",
      "           1       0.83      0.53      0.65        98\n",
      "\n",
      "   micro avg       1.00      1.00      1.00     56962\n",
      "   macro avg       0.91      0.77      0.82     56962\n",
      "weighted avg       1.00      1.00      1.00     56962\n",
      "\n"
     ]
    },
    {
     "data": {
      "image/png": "[encoded data removed]",
      "text/plain": [
       "<Figure size 432x288 with 2 Axes>"
      ]
     },
     "metadata": {},
     "output_type": "display_data"
    }
   ],
   "source": [
    "# Invoke classifier\n",
    "clf = LogisticRegression()\n",
    "\n",
    "# Cross-validate on the train data\n",
    "train_cv = cross_val_score(X=X_train,y=y_train,estimator=clf,cv=3)\n",
    "print(\"TRAIN GROUP\")\n",
    "print(\"\\nCross-validation accuracy scores:\",train_cv)\n",
    "print(\"Mean score:\",train_cv.mean())\n",
    "\n",
    "# Now predict on the test group\n",
    "print(\"\\nTEST GROUP\")\n",
    "y_pred = clf.fit(X_train, y_train).predict(X_test)\n",
    "print(\"\\nAccuracy score:\",clf.score(X_test,y_test))\n",
    "\n",
    "# Classification report\n",
    "print('\\nClassification report:\\n')\n",
    "print(classification_report(y_test, y_pred))\n",
    "\n",
    "# Confusion matrix\n",
    "conf_matrix = confusion_matrix(y_test,y_pred)\n",
    "sns.heatmap(conf_matrix, annot=True,fmt='d', cmap=plt.cm.copper)\n",
    "plt.show()\n"
   ]
  },
  {
   "cell_type": "markdown",
   "metadata": {
    "_uuid": "b224568bfc966a1ea0812057f38a058c39e51478"
   },
   "source": [
    "**Understanding the scores**\n",
    "\n",
    "Sensitivity (or Recall) is the percentage of positives correctly identified.\n",
    "\n",
    "Specificity is just the opposite, the percentage of negatives correctly identified.\n",
    "\n",
    "The confusion matrix and classification reports reveal that **the high scores are merely a reflection of the class imbalance.** Since we're using a generalized scoring method, accuracy reflects the recall of both frauds and non-frauds. However, since frauds are so few,(`0.0017%`) their poor recall(`53%`) isn't reflected in the overall accuracy score.\n",
    "\n",
    "**On the test set**\n",
    "- Of `98` fraud cases in the test set, `52` were correctly labeled as frauds. And almost a half, `46` were mislabeled as non-frauds.\n",
    "- All except `11` non-frauds were correctly labeled as non-frauds, from a total of `56,864`. That's nearly perfect, but the priority should be to prevent frauds. Therefore, this is rather a secondary metric for us."
   ]
  },
  {
   "cell_type": "markdown",
   "metadata": {
    "_uuid": "1bfeb2f6bb9db6c977e7541c86c1d56616f5c227"
   },
   "source": [
    "## Feature Engineering\n",
    "\n",
    "**Before fixing the class imbalance, there are other things that need to be addressed:**\n",
    "- Classification algorithms expect to receive normalized features. There are two features in the data that aren't normalized. ('Time' and 'Amount')\n",
    "- New features could be created from those unprocessed features, if they capture a pattern correlated to 'Class'.\n",
    "\n",
    "**'Features' DataFrame**\n",
    "- In this dataframe I'll store the features intended for predictive modeling of frauds.\n",
    "- 'data' will be left as the raw dataset."
   ]
  },
  {
   "cell_type": "code",
   "execution_count": 14,
   "metadata": {
    "_uuid": "d61fbb7357c89fdb7b5dae031d6b97d92f1a51e7"
   },
   "outputs": [],
   "source": [
    "features = pd.DataFrame()"
   ]
  },
  {
   "cell_type": "markdown",
   "metadata": {
    "_uuid": "69f01c00a72013631aa332c95f2199a5a64f3f8f"
   },
   "source": [
    "### Time-Based Features\n",
    "- There seem to be two normal distributions in the feature Time. Let's isolate them so we can create features from them."
   ]
  },
  {
   "cell_type": "code",
   "execution_count": 15,
   "metadata": {
    "_uuid": "e07026a8d676ac94ce554aed7610b768d3ef7651"
   },
   "outputs": [
    {
     "data": {
      "image/png": "[encoded data removed]",
      "text/plain": [
       "<Figure size 864x432 with 2 Axes>"
      ]
     },
     "metadata": {},
     "output_type": "display_data"
    }
   ],
   "source": [
    "plt.figure(figsize=(12,6))\n",
    "\n",
    "# Visualize where Time is less than 100,000\n",
    "plt.subplot(1,2,1)\n",
    "plt.title(\"Time < 100,000\")\n",
    "data[data['Time']<100000]['Time'].hist()\n",
    "\n",
    "# Visualize where Time is more than 100,000\n",
    "plt.subplot(1,2,2)\n",
    "plt.title(\"Time >= 100,000\")\n",
    "data[data['Time']>=100000]['Time'].hist()\n",
    "\n",
    "plt.tight_layout()\n",
    "plt.show()"
   ]
  },
  {
   "cell_type": "code",
   "execution_count": 16,
   "metadata": {
    "_uuid": "b08c59e0abce7af795fd67ef072ee68e963c69f6"
   },
   "outputs": [],
   "source": [
    "# Create a feature from normal distributions above\n",
    "features['100k_time'] = np.where(data.Time<100000, 1,0)"
   ]
  },
  {
   "cell_type": "markdown",
   "metadata": {
    "_uuid": "ed2d70c4f3fbabb24de231cc6fd8e688c78a1f0f"
   },
   "source": [
    "### Feature: Time_hour > 4\n",
    "- Feature for non-frauds, where 'Time_hour' is above 4. This seems to have a clear differentiation."
   ]
  },
  {
   "cell_type": "code",
   "execution_count": 17,
   "metadata": {},
   "outputs": [],
   "source": [
    "eda = pd.DataFrame(data.copy())\n",
    "\n",
    "# Tell timedelta to interpret the Time as second units\n",
    "timedelta = pd.to_timedelta(eda['Time'], unit='s')\n",
    "\n",
    "# Create a hours feature from timedelta\n",
    "eda['Time_hour'] = (timedelta.dt.components.hours).astype(int)"
   ]
  },
  {
   "cell_type": "code",
   "execution_count": 18,
   "metadata": {
    "_uuid": "dbac290e4f2b7fb95458fa8675e4656d3a8729c2"
   },
   "outputs": [
    {
     "data": {
      "image/png": "[encoded data removed]",
      "text/plain": [
       "<Figure size 864x432 with 2 Axes>"
      ]
     },
     "metadata": {},
     "output_type": "display_data"
    }
   ],
   "source": [
    "plt.figure(figsize=(12,6))\n",
    "\n",
    "plt.subplot(1,2,1)\n",
    "plt.title(\"Non-Frauds, Hour <= 4\")\n",
    "eda.Time_hour[(eda.Class == 0) & (eda.Time_hour <= 4)].plot(kind='hist',bins=15)\n",
    "\n",
    "plt.subplot(1,2,2)\n",
    "plt.title(\"Non-Frauds, Hour > 4\")\n",
    "eda.Time_hour[(eda.Class == 0) & (eda.Time_hour > 4)].plot(kind='hist',bins=15)\n",
    "\n",
    "plt.tight_layout()\n",
    "plt.show()"
   ]
  },
  {
   "cell_type": "code",
   "execution_count": 19,
   "metadata": {
    "_uuid": "139204164cef499f3c5207dbd06c3ad24077604a"
   },
   "outputs": [],
   "source": [
    "# Create a feature from distributions above\n",
    "features['4_hour'] = np.where((eda.Class == 0) & (eda.Time_hour > 4), 1,0)"
   ]
  },
  {
   "cell_type": "markdown",
   "metadata": {
    "_uuid": "3cdaacbbe9bc36003fbd1041b6957aeaf18262df"
   },
   "source": [
    "### Feature: $0 Fraud Amounts...?\n",
    "- Many transactions are zero dollars. This might be confusing for our model's predictive ability. It is arguable these don't need to be prevented. \n",
    "    - One approach could be to simply discard these transactions. \n",
    "    - The second approach is to ignore it and focus on predicting transactions labeled as 'frauds', regardless of them having no dollar-value.\n",
    "    \n",
    "**For now, I'll use this as basis for a feature. Later I'll compare results between different approaches**"
   ]
  },
  {
   "cell_type": "code",
   "execution_count": 20,
   "metadata": {
    "_uuid": "9df3e0e0c3243247b8a9096ff02cf9fc3b9ce733",
    "scrolled": false
   },
   "outputs": [
    {
     "name": "stdout",
     "output_type": "stream",
     "text": [
      "Non-Fraud Zero dollar Transactions:\n"
     ]
    },
    {
     "data": {
      "text/plain": [
       "1798"
      ]
     },
     "metadata": {},
     "output_type": "display_data"
    },
    {
     "name": "stdout",
     "output_type": "stream",
     "text": [
      "Fraudulent Zero dollar Transactions:\n"
     ]
    },
    {
     "data": {
      "text/plain": [
       "27"
      ]
     },
     "metadata": {},
     "output_type": "display_data"
    }
   ],
   "source": [
    "# how many frauds are actually 0 dollars?\n",
    "print(\"Non-Fraud Zero dollar Transactions:\")\n",
    "display(data[(data.Amount == 0) & (data.Class == 0)]['Class'].count())\n",
    "print(\"Fraudulent Zero dollar Transactions:\")\n",
    "display(data[(data.Amount == 0) & (data.Class == 1)]['Class'].count())"
   ]
  },
  {
   "cell_type": "code",
   "execution_count": 21,
   "metadata": {
    "_uuid": "6e06041d26190b0ef299384255e00f4382b85f5f",
    "scrolled": true
   },
   "outputs": [],
   "source": [
    "# Capture where transactions have a $0 amount\n",
    "features['amount0'] = np.where(data.Amount == 0,1,0)"
   ]
  },
  {
   "cell_type": "markdown",
   "metadata": {
    "_uuid": "9cc7dc78ea86d7a823af98a8a492b710a863618b"
   },
   "source": [
    "### Normalize Time and Amount\n",
    "- Although we already captured some features from 'Time' and 'Amount', before decidedly dropping them, I'd like to normalize and test them in the model."
   ]
  },
  {
   "cell_type": "code",
   "execution_count": 22,
   "metadata": {
    "_uuid": "11e5478f63995d04451c84dda2a637b25d51f9e5"
   },
   "outputs": [],
   "source": [
    "rob_scaler = RobustScaler()\n",
    "\n",
    "features['scaled_amount'] = rob_scaler.fit_transform(data['Amount'].values.reshape(-1,1))\n",
    "features['scaled_time'] = rob_scaler.fit_transform(data['Time'].values.reshape(-1,1))"
   ]
  },
  {
   "cell_type": "markdown",
   "metadata": {
    "_uuid": "a0f2380af300f8fc3a4894206232edf71d28a13d"
   },
   "source": [
    "### Add the Rest: PCA and Class\n"
   ]
  },
  {
   "cell_type": "code",
   "execution_count": 23,
   "metadata": {
    "_uuid": "f72654e3857d70781526714ef84c0a926897c109",
    "scrolled": true
   },
   "outputs": [
    {
     "data": {
      "text/html": [
       "<div>\n",
       "<style scoped>\n",
       "    .dataframe tbody tr th:only-of-type {\n",
       "        vertical-align: middle;\n",
       "    }\n",
       "\n",
       "    .dataframe tbody tr th {\n",
       "        vertical-align: top;\n",
       "    }\n",
       "\n",
       "    .dataframe thead th {\n",
       "        text-align: right;\n",
       "    }\n",
       "</style>\n",
       "<table border=\"1\" class=\"dataframe\">\n",
       "  <thead>\n",
       "    <tr style=\"text-align: right;\">\n",
       "      <th></th>\n",
       "      <th>100k_time</th>\n",
       "      <th>4_hour</th>\n",
       "      <th>amount0</th>\n",
       "      <th>scaled_amount</th>\n",
       "      <th>scaled_time</th>\n",
       "      <th>V1</th>\n",
       "      <th>V2</th>\n",
       "      <th>V3</th>\n",
       "      <th>V4</th>\n",
       "      <th>V5</th>\n",
       "      <th>V6</th>\n",
       "      <th>V7</th>\n",
       "      <th>V8</th>\n",
       "      <th>V9</th>\n",
       "      <th>V10</th>\n",
       "      <th>V11</th>\n",
       "      <th>V12</th>\n",
       "      <th>V13</th>\n",
       "      <th>V14</th>\n",
       "      <th>V15</th>\n",
       "      <th>V16</th>\n",
       "      <th>V17</th>\n",
       "      <th>V18</th>\n",
       "      <th>V19</th>\n",
       "      <th>V20</th>\n",
       "      <th>V21</th>\n",
       "      <th>V22</th>\n",
       "      <th>V23</th>\n",
       "      <th>V24</th>\n",
       "      <th>V25</th>\n",
       "      <th>V26</th>\n",
       "      <th>V27</th>\n",
       "      <th>V28</th>\n",
       "      <th>Class</th>\n",
       "    </tr>\n",
       "  </thead>\n",
       "  <tbody>\n",
       "    <tr>\n",
       "      <th>0</th>\n",
       "      <td>1</td>\n",
       "      <td>0</td>\n",
       "      <td>0</td>\n",
       "      <td>1.783274</td>\n",
       "      <td>-0.994983</td>\n",
       "      <td>-1.359807</td>\n",
       "      <td>-0.072781</td>\n",
       "      <td>2.536347</td>\n",
       "      <td>1.378155</td>\n",
       "      <td>-0.338321</td>\n",
       "      <td>0.462388</td>\n",
       "      <td>0.239599</td>\n",
       "      <td>0.098698</td>\n",
       "      <td>0.363787</td>\n",
       "      <td>0.090794</td>\n",
       "      <td>-0.551600</td>\n",
       "      <td>-0.617801</td>\n",
       "      <td>-0.991390</td>\n",
       "      <td>-0.311169</td>\n",
       "      <td>1.468177</td>\n",
       "      <td>-0.470401</td>\n",
       "      <td>0.207971</td>\n",
       "      <td>0.025791</td>\n",
       "      <td>0.403993</td>\n",
       "      <td>0.251412</td>\n",
       "      <td>-0.018307</td>\n",
       "      <td>0.277838</td>\n",
       "      <td>-0.110474</td>\n",
       "      <td>0.066928</td>\n",
       "      <td>0.128539</td>\n",
       "      <td>-0.189115</td>\n",
       "      <td>0.133558</td>\n",
       "      <td>-0.021053</td>\n",
       "      <td>0</td>\n",
       "    </tr>\n",
       "    <tr>\n",
       "      <th>1</th>\n",
       "      <td>1</td>\n",
       "      <td>0</td>\n",
       "      <td>0</td>\n",
       "      <td>-0.269825</td>\n",
       "      <td>-0.994983</td>\n",
       "      <td>1.191857</td>\n",
       "      <td>0.266151</td>\n",
       "      <td>0.166480</td>\n",
       "      <td>0.448154</td>\n",
       "      <td>0.060018</td>\n",
       "      <td>-0.082361</td>\n",
       "      <td>-0.078803</td>\n",
       "      <td>0.085102</td>\n",
       "      <td>-0.255425</td>\n",
       "      <td>-0.166974</td>\n",
       "      <td>1.612727</td>\n",
       "      <td>1.065235</td>\n",
       "      <td>0.489095</td>\n",
       "      <td>-0.143772</td>\n",
       "      <td>0.635558</td>\n",
       "      <td>0.463917</td>\n",
       "      <td>-0.114805</td>\n",
       "      <td>-0.183361</td>\n",
       "      <td>-0.145783</td>\n",
       "      <td>-0.069083</td>\n",
       "      <td>-0.225775</td>\n",
       "      <td>-0.638672</td>\n",
       "      <td>0.101288</td>\n",
       "      <td>-0.339846</td>\n",
       "      <td>0.167170</td>\n",
       "      <td>0.125895</td>\n",
       "      <td>-0.008983</td>\n",
       "      <td>0.014724</td>\n",
       "      <td>0</td>\n",
       "    </tr>\n",
       "    <tr>\n",
       "      <th>2</th>\n",
       "      <td>1</td>\n",
       "      <td>0</td>\n",
       "      <td>0</td>\n",
       "      <td>4.983721</td>\n",
       "      <td>-0.994972</td>\n",
       "      <td>-1.358354</td>\n",
       "      <td>-1.340163</td>\n",
       "      <td>1.773209</td>\n",
       "      <td>0.379780</td>\n",
       "      <td>-0.503198</td>\n",
       "      <td>1.800499</td>\n",
       "      <td>0.791461</td>\n",
       "      <td>0.247676</td>\n",
       "      <td>-1.514654</td>\n",
       "      <td>0.207643</td>\n",
       "      <td>0.624501</td>\n",
       "      <td>0.066084</td>\n",
       "      <td>0.717293</td>\n",
       "      <td>-0.165946</td>\n",
       "      <td>2.345865</td>\n",
       "      <td>-2.890083</td>\n",
       "      <td>1.109969</td>\n",
       "      <td>-0.121359</td>\n",
       "      <td>-2.261857</td>\n",
       "      <td>0.524980</td>\n",
       "      <td>0.247998</td>\n",
       "      <td>0.771679</td>\n",
       "      <td>0.909412</td>\n",
       "      <td>-0.689281</td>\n",
       "      <td>-0.327642</td>\n",
       "      <td>-0.139097</td>\n",
       "      <td>-0.055353</td>\n",
       "      <td>-0.059752</td>\n",
       "      <td>0</td>\n",
       "    </tr>\n",
       "    <tr>\n",
       "      <th>3</th>\n",
       "      <td>1</td>\n",
       "      <td>0</td>\n",
       "      <td>0</td>\n",
       "      <td>1.418291</td>\n",
       "      <td>-0.994972</td>\n",
       "      <td>-0.966272</td>\n",
       "      <td>-0.185226</td>\n",
       "      <td>1.792993</td>\n",
       "      <td>-0.863291</td>\n",
       "      <td>-0.010309</td>\n",
       "      <td>1.247203</td>\n",
       "      <td>0.237609</td>\n",
       "      <td>0.377436</td>\n",
       "      <td>-1.387024</td>\n",
       "      <td>-0.054952</td>\n",
       "      <td>-0.226487</td>\n",
       "      <td>0.178228</td>\n",
       "      <td>0.507757</td>\n",
       "      <td>-0.287924</td>\n",
       "      <td>-0.631418</td>\n",
       "      <td>-1.059647</td>\n",
       "      <td>-0.684093</td>\n",
       "      <td>1.965775</td>\n",
       "      <td>-1.232622</td>\n",
       "      <td>-0.208038</td>\n",
       "      <td>-0.108300</td>\n",
       "      <td>0.005274</td>\n",
       "      <td>-0.190321</td>\n",
       "      <td>-1.175575</td>\n",
       "      <td>0.647376</td>\n",
       "      <td>-0.221929</td>\n",
       "      <td>0.062723</td>\n",
       "      <td>0.061458</td>\n",
       "      <td>0</td>\n",
       "    </tr>\n",
       "    <tr>\n",
       "      <th>4</th>\n",
       "      <td>1</td>\n",
       "      <td>0</td>\n",
       "      <td>0</td>\n",
       "      <td>0.670579</td>\n",
       "      <td>-0.994960</td>\n",
       "      <td>-1.158233</td>\n",
       "      <td>0.877737</td>\n",
       "      <td>1.548718</td>\n",
       "      <td>0.403034</td>\n",
       "      <td>-0.407193</td>\n",
       "      <td>0.095921</td>\n",
       "      <td>0.592941</td>\n",
       "      <td>-0.270533</td>\n",
       "      <td>0.817739</td>\n",
       "      <td>0.753074</td>\n",
       "      <td>-0.822843</td>\n",
       "      <td>0.538196</td>\n",
       "      <td>1.345852</td>\n",
       "      <td>-1.119670</td>\n",
       "      <td>0.175121</td>\n",
       "      <td>-0.451449</td>\n",
       "      <td>-0.237033</td>\n",
       "      <td>-0.038195</td>\n",
       "      <td>0.803487</td>\n",
       "      <td>0.408542</td>\n",
       "      <td>-0.009431</td>\n",
       "      <td>0.798278</td>\n",
       "      <td>-0.137458</td>\n",
       "      <td>0.141267</td>\n",
       "      <td>-0.206010</td>\n",
       "      <td>0.502292</td>\n",
       "      <td>0.219422</td>\n",
       "      <td>0.215153</td>\n",
       "      <td>0</td>\n",
       "    </tr>\n",
       "  </tbody>\n",
       "</table>\n",
       "</div>"
      ],
      "text/plain": [
       "   100k_time  4_hour  amount0  ...         V27       V28  Class\n",
       "0          1       0        0  ...    0.133558 -0.021053      0\n",
       "1          1       0        0  ...   -0.008983  0.014724      0\n",
       "2          1       0        0  ...   -0.055353 -0.059752      0\n",
       "3          1       0        0  ...    0.062723  0.061458      0\n",
       "4          1       0        0  ...    0.219422  0.215153      0\n",
       "\n",
       "[5 rows x 34 columns]"
      ]
     },
     "execution_count": 23,
     "metadata": {},
     "output_type": "execute_result"
    }
   ],
   "source": [
    "# Add the PCA components to our features DataFrame.\n",
    "features = features.join(data.iloc[:,1:-1].drop('Amount',axis=1))\n",
    "\n",
    "# Add 'Class' to our features DataFrame.\n",
    "features = features.join(data.Class)\n",
    "\n",
    "# Nice! These are the final features I'll settle for.\n",
    "features.head()"
   ]
  },
  {
   "cell_type": "markdown",
   "metadata": {
    "_uuid": "6680e7ceba0af9f2b898946a2b5d00229b6ba498"
   },
   "source": [
    "### Classification Improvements after Feature Engineering\n",
    "\n",
    "- We've added some features, and re-coded two existing features. Let's see how classification performs now.\n",
    "- In this classification I'll define `X` and `y`, as well as `train` and `test` samples from the `features` DataFrame, which has the feature-engineered version of the data.\n",
    "- Also, I'll use `recall_score` as the scoring function for cross-validation. This represents the percentage of frauds correctly identified."
   ]
  },
  {
   "cell_type": "code",
   "execution_count": 24,
   "metadata": {
    "_uuid": "3d807585cf4619cc4fbe06a21cdc6d8241855e81"
   },
   "outputs": [
    {
     "name": "stdout",
     "output_type": "stream",
     "text": [
      "TEST GROUP\n",
      "Size: 56962\n",
      "Frauds percentage: 0.0017204452090867595\n",
      "Nonfrauds percentage: 0.9982795547909132\n",
      "\n",
      "TRAIN GROUP\n",
      "Size: 227845\n",
      "Frauds percentage: 0.001729245759178389\n",
      "Nonfrauds percentage: 0.9982707542408216\n"
     ]
    }
   ],
   "source": [
    "# Define outcome and predictors USE FEATURE-ENGINEERED DATA\n",
    "y = features['Class']\n",
    "X = features.drop('Class', 1)\n",
    "\n",
    "# Split X and y into train and test sets.\n",
    "X_train, X_test, y_train, y_test = train_test_split(\n",
    "    X, y, test_size=0.2, random_state=42)\n",
    "\n",
    "# Class balance in test group\n",
    "print(\"TEST GROUP\")\n",
    "print('Size:',y_test.count())\n",
    "print(\"Frauds percentage:\",\n",
    "      y_test.value_counts()[1]/y_test.count())\n",
    "print(\"Nonfrauds percentage:\",\n",
    "      y_test.value_counts()[0]/y_test.count())\n",
    "\n",
    "# Class balance in train group\n",
    "print(\"\\nTRAIN GROUP\")\n",
    "print('Size:',y_train.count())\n",
    "print(\"Frauds percentage:\",\n",
    "      y_train.value_counts()[1]/y_train.count())\n",
    "print(\"Nonfrauds percentage:\",\n",
    "      y_train.value_counts()[0]/y_train.count())"
   ]
  },
  {
   "cell_type": "code",
   "execution_count": 25,
   "metadata": {
    "_uuid": "c82958bbeedbc32512c8b6f5e5d7432ed777701a",
    "scrolled": false
   },
   "outputs": [
    {
     "name": "stdout",
     "output_type": "stream",
     "text": [
      "TRAIN GROUP\n",
      "\n",
      "Cross-validation recall scores: [0.79545455 0.81679389 0.85496183]\n",
      "Mean recall score: 0.8224034235484617\n",
      "\n",
      "TEST GROUP\n",
      "\n",
      "Recall: 0.826530612244898\n",
      "\n",
      "Classification report:\n",
      "\n",
      "              precision    recall  f1-score   support\n",
      "\n",
      "           0       1.00      1.00      1.00     56864\n",
      "           1       0.98      0.83      0.90        98\n",
      "\n",
      "   micro avg       1.00      1.00      1.00     56962\n",
      "   macro avg       0.99      0.91      0.95     56962\n",
      "weighted avg       1.00      1.00      1.00     56962\n",
      "\n"
     ]
    },
    {
     "data": {
      "image/png": "[encoded data removed]",
      "text/plain": [
       "<Figure size 432x288 with 2 Axes>"
      ]
     },
     "metadata": {},
     "output_type": "display_data"
    }
   ],
   "source": [
    "# Invoke classifier\n",
    "clf = LogisticRegression()\n",
    "\n",
    "# Make a scoring callable from recall_score\n",
    "recall = make_scorer(recall_score)\n",
    "\n",
    "# Cross-validate on the train data\n",
    "train_cv = cross_val_score(X=X_train,y=y_train,estimator=clf,scoring=recall,cv=3)\n",
    "print(\"TRAIN GROUP\")\n",
    "print(\"\\nCross-validation recall scores:\",train_cv)\n",
    "print(\"Mean recall score:\",train_cv.mean())\n",
    "\n",
    "# Now predict on the test group\n",
    "print(\"\\nTEST GROUP\")\n",
    "y_pred = clf.fit(X_train, y_train).predict(X_test)\n",
    "print(\"\\nRecall:\",recall_score(y_test,y_pred))\n",
    "\n",
    "# Classification report\n",
    "print('\\nClassification report:\\n')\n",
    "print(classification_report(y_test, y_pred))\n",
    "\n",
    "# Confusion matrix\n",
    "conf_matrix = confusion_matrix(y_test,y_pred)\n",
    "sns.heatmap(conf_matrix, annot=True,fmt='d', cmap=plt.cm.copper)\n",
    "plt.show()"
   ]
  },
  {
   "cell_type": "markdown",
   "metadata": {
    "_uuid": "7b87742c3787226d7f2bd8e25be6bdce9386dbba"
   },
   "source": [
    "**Scores**\n",
    "- Now the cross_val scores reflect the fraud recall on three folds of the train data. These numbers are more informative for us now.\n",
    "- The mean recall from train data is also very consistent with the test recall. This is evidence of the model's certainty.\n",
    "- Fraud Recall went up from `53%` to `83%`. That's pretty good already, but it's far from perfect. We still have `17` frauds in the test set that aren't being predicted.\n",
    "\n",
    "**What's next**\n",
    "The main obstacles for high accuracy are currently class-imbalance, outliers and noise. Fixing these involves changing the length of the data, meaning we won't have the same datapoints present afterwards. For that reason, we'll only use the features' `train` data to make these transformations, and use the features' `test` data to make predictions."
   ]
  },
  {
   "cell_type": "markdown",
   "metadata": {
    "_uuid": "1ebe35780a897cf2d29cdc84c461a635dce9115d"
   },
   "source": [
    "## Data Processing\n",
    "\n",
    "Data processing will include class-balancing, removing outliers, and feature-selection."
   ]
  },
  {
   "cell_type": "markdown",
   "metadata": {
    "_uuid": "3257aa9058228abe298210b7f3d15b8f06509002"
   },
   "source": [
    "### Balancing Classes\n",
    "**There's several methods for balancing classes:** Im mostly interested in these...\n",
    "\n",
    "---\n",
    "- Random-Undersampling of Majority Class.\n",
    "\n",
    "You reduce the size of majority class to match size of minority class. Disadvantage is that you may end up with very little data.\n",
    "    \n",
    "---\n",
    "- SMOTE- Synthetic Minority Oversampling Technique.\n",
    "\n",
    "Algorithm that creates a larger sample of minority class to match the size of majority class.\n",
    " \n",
    "---\n",
    "- Inverting Class Ratios. (Turning minority into majority)\n",
    "\n",
    "If you turn the minority into the majority, you may skew results towards better recall scores(detecting frauds correctly), as opposed to better specificity scores.(detecting non-frauds correctly)\n",
    "\n",
    "---\n",
    "\n",
    "**For now, I'll balance with a variant implementation of SMOTE, to see correlations.**"
   ]
  },
  {
   "cell_type": "code",
   "execution_count": 26,
   "metadata": {
    "_uuid": "443e1875ca904c64ee53d1ea60863e8a3df13336"
   },
   "outputs": [
    {
     "name": "stdout",
     "output_type": "stream",
     "text": [
      "Data shape before balancing: (227845, 34)\n",
      "\n",
      "Counts of frauds VS non-frauds in previous data:\n",
      "0    227451\n",
      "1       394\n",
      "Name: Class, dtype: int64\n",
      "----------------------------------------\n"
     ]
    }
   ],
   "source": [
    "# Balancing Classes before checking for correlation\n",
    "\n",
    "# Join the train data\n",
    "train = X_train.join(y_train)\n",
    "\n",
    "print('Data shape before balancing:',train.shape)\n",
    "print('\\nCounts of frauds VS non-frauds in previous data:')\n",
    "print(train.Class.value_counts())\n",
    "print('-'*40)"
   ]
  },
  {
   "cell_type": "code",
   "execution_count": 27,
   "metadata": {
    "_uuid": "443e1875ca904c64ee53d1ea60863e8a3df13336"
   },
   "outputs": [
    {
     "name": "stdout",
     "output_type": "stream",
     "text": [
      "----------------------------------------\n",
      "Data shape after balancing: (454902, 34)\n",
      "\n",
      "Counts of frauds VS non-frauds in new data:\n",
      "1    227451\n",
      "0    227451\n",
      "Name: Class, dtype: int64\n"
     ]
    }
   ],
   "source": [
    "# Oversample frauds. Imblearn's ADASYN was built for class-imbalanced datasets\n",
    "X_bal, y_bal = SMOTE(random_state=0).fit_sample(\n",
    "    X_train,\n",
    "    y_train)\n",
    "\n",
    "# Join X and y\n",
    "X_bal = pd.DataFrame(X_bal,columns=X_train.columns)\n",
    "y_bal = pd.DataFrame(y_bal,columns=['Class'])\n",
    "balanced = X_bal.join(y_bal)\n",
    "\n",
    "\n",
    "print('-'*40)\n",
    "print('Data shape after balancing:',balanced.shape)\n",
    "print('\\nCounts of frauds VS non-frauds in new data:')\n",
    "print(balanced.Class.value_counts())"
   ]
  },
  {
   "cell_type": "markdown",
   "metadata": {
    "_uuid": "ab157e0ef986bff49796256a88b6bdd67eefb8cb"
   },
   "source": [
    "- Now we have much more data because the frauds were oversampled to match the size of non-frauds.\n"
   ]
  },
  {
   "cell_type": "code",
   "execution_count": 28,
   "metadata": {
    "_uuid": "4ac75430b2b125847fce0b29e0e05e94e8944912"
   },
   "outputs": [
    {
     "name": "stdout",
     "output_type": "stream",
     "text": [
      "Distribution of the Classes in the subsample dataset\n",
      "1    0.998271\n",
      "0    0.998271\n",
      "Name: Class, dtype: float64\n"
     ]
    },
    {
     "data": {
      "image/png": "[encoded data removed]",
      "text/plain": [
       "<Figure size 432x288 with 1 Axes>"
      ]
     },
     "metadata": {},
     "output_type": "display_data"
    }
   ],
   "source": [
    "print('Distribution of the Classes in the subsample dataset')\n",
    "print(balanced.Class.value_counts()/len(train))\n",
    "\n",
    "sns.countplot('Class', data=balanced)\n",
    "plt.title('Class Distribution', fontsize=14)\n",
    "plt.show()\n"
   ]
  },
  {
   "cell_type": "markdown",
   "metadata": {
    "_uuid": "faf085bec89c61c499b2ed8436537a707ef1e96e"
   },
   "source": [
    "### Removing High-Correlation Outliers\n",
    "- This step must be taken after balancing classes. Otherwise, correlations will echo class-distributions. To illustrate, I'll include two versions of the correlation matrix.\n",
    "- Based on a correlation matrix, we'll identify features with high correlations, and remove any transactions with outlying values in these.\n",
    "- High correlation features have a high capacity to influence the algorith prediction. Therefore it's important to control their anomalies.\n",
    "- This approach will reduce prediction bias because our algorithm will learn from more normally-distributed features. "
   ]
  },
  {
   "cell_type": "code",
   "execution_count": 29,
   "metadata": {
    "_uuid": "8dbf450f152282a376e0d48b369071a7302e0da2"
   },
   "outputs": [
    {
     "data": {
      "image/png": "[encoded data removed]",
      "text/plain": [
       "<Figure size 1728x1440 with 4 Axes>"
      ]
     },
     "metadata": {},
     "output_type": "display_data"
    }
   ],
   "source": [
    "# Compare correlation of raw train data VS balanced train data\n",
    "\n",
    "f, (ax1, ax2) = plt.subplots(2, 1, figsize=(24,20))\n",
    "\n",
    "# Imbalanced DataFrame\n",
    "corr = train.corr()\n",
    "sns.heatmap(corr, annot_kws={'size':20}, ax=ax1)\n",
    "ax1.set_title(\"Imbalanced Correlation Matrix \\n (Biased)\", fontsize=14)\n",
    "\n",
    "# Balanced DataFrame\n",
    "bal_corr = balanced.corr()\n",
    "sns.heatmap(bal_corr, annot_kws={'size':20}, ax=ax2)\n",
    "ax2.set_title('Balanced Correlation Matrix', fontsize=14)\n",
    "plt.show()"
   ]
  },
  {
   "cell_type": "markdown",
   "metadata": {
    "_uuid": "8d1f2db2e241597e2a96efa344cc3b1b65907b4d"
   },
   "source": [
    "- From the feature engineered variables, it looks like `4_hour` has a very strong (negative) correlation with 'Class'. Well, at least one was useful.\n",
    "- Now let's see some actual numbers for feature correlations."
   ]
  },
  {
   "cell_type": "code",
   "execution_count": 30,
   "metadata": {
    "_uuid": "1b72878d46d3fb4ed555d284cd178fae9857a5f0",
    "scrolled": true
   },
   "outputs": [
    {
     "data": {
      "text/plain": [
       "100k_time        0.156164\n",
       "4_hour          -0.929015\n",
       "amount0          0.164516\n",
       "scaled_amount    0.025962\n",
       "scaled_time     -0.176414\n",
       "V1              -0.416711\n",
       "V2               0.516749\n",
       "V3              -0.569048\n",
       "V4               0.719325\n",
       "V5              -0.377100\n",
       "V6              -0.449862\n",
       "V7              -0.487419\n",
       "V8               0.114110\n",
       "V9              -0.578140\n",
       "V10             -0.641454\n",
       "V11              0.699998\n",
       "V12             -0.687104\n",
       "V13             -0.023681\n",
       "V14             -0.762807\n",
       "V15             -0.030614\n",
       "V16             -0.591601\n",
       "V17             -0.558521\n",
       "V18             -0.463144\n",
       "V19              0.277653\n",
       "V20              0.179036\n",
       "V21              0.163920\n",
       "V22              0.003105\n",
       "V23             -0.031218\n",
       "V24             -0.090916\n",
       "V25              0.055019\n",
       "V26              0.068937\n",
       "V27              0.109585\n",
       "V28              0.116219\n",
       "Class            1.000000\n",
       "Name: Class, dtype: float64"
      ]
     },
     "execution_count": 30,
     "metadata": {},
     "output_type": "execute_result"
    }
   ],
   "source": [
    "# Each feature's correlation with Class\n",
    "bal_corr.Class"
   ]
  },
  {
   "cell_type": "markdown",
   "metadata": {
    "_uuid": "e953d12ef6d9bcd11453881e9c582f6738818eab"
   },
   "source": [
    "- I'll make a loop that checks each feature for correlation value, and if greater than that, it'll remove outliers for that variable following a certain cutoff."
   ]
  },
  {
   "cell_type": "markdown",
   "metadata": {
    "_uuid": "a3d6e21d477b66c7892e57bad9f4bfb83240d06d"
   },
   "source": [
    "**Approach to removing outliers:**\n",
    "\n",
    "**For features of high positive correlation...**\n",
    "Remove non-fraud outliers on the top range, (improve recall) and remove fraud outliers on the bottom range. (improve specificity)\n",
    "\n",
    "**For features of high negative correlation...**\n",
    "Remove non-fraud outliers on the bottom range, (improve recall) and remove fraud outliers on the top range. (improve specificity)"
   ]
  },
  {
   "cell_type": "code",
   "execution_count": 31,
   "metadata": {
    "_uuid": "5ae9a7c94a5faefbcbe9cec1ea4aa24612711b9b"
   },
   "outputs": [],
   "source": [
    "no_outliers=pd.DataFrame(balanced.copy())"
   ]
  },
  {
   "cell_type": "code",
   "execution_count": 32,
   "metadata": {
    "_uuid": "85c652479305816ee990c0ac17664156cd10d6f7",
    "scrolled": false
   },
   "outputs": [
    {
     "name": "stdout",
     "output_type": "stream",
     "text": [
      "\n",
      "Data shape before removing outliers: (454902, 34)\n",
      "\n",
      "Counts of frauds VS non-frauds in previous data:\n",
      "1    227451\n",
      "0    227451\n",
      "Name: Class, dtype: int64\n",
      "----------------------------------------\n",
      "----------------------------------------\n",
      "\n",
      "Data shape after removing outliers: (443406, 34)\n",
      "\n",
      "Counts of frauds VS non-frauds in new data:\n",
      "0    224779\n",
      "1    218627\n",
      "Name: Class, dtype: int64\n"
     ]
    }
   ],
   "source": [
    "# Removing Outliers from high-correlation features\n",
    "\n",
    "cols = bal_corr.Class.index[:-1]\n",
    "\n",
    "# For each feature correlated with Class...\n",
    "for col in cols:\n",
    "    # If absolute correlation value is more than X percent...\n",
    "    correlation = bal_corr.loc['Class',col]\n",
    "    if np.absolute(correlation) > 0.1:\n",
    "        \n",
    "        # Separate the classes of the high-correlation column\n",
    "        nonfrauds = no_outliers.loc[no_outliers.Class==0,col]\n",
    "        frauds = no_outliers.loc[no_outliers.Class==1,col]\n",
    "\n",
    "        # Identify the 25th and 75th quartiles\n",
    "        all_values = no_outliers.loc[:,col]\n",
    "        q25, q75 = np.percentile(all_values, 25), np.percentile(all_values, 75)\n",
    "        # Get the inter quartile range\n",
    "        iqr = q75 - q25\n",
    "        # Smaller cutoffs will remove more outliers\n",
    "        cutoff = iqr * 7\n",
    "        # Set the bounds of the desired portion to keep\n",
    "        lower, upper = q25 - cutoff, q75 + cutoff\n",
    "        \n",
    "        # If positively correlated...\n",
    "        # Drop nonfrauds above upper bound, and frauds below lower bound\n",
    "        if correlation > 0: \n",
    "            no_outliers.drop(index=nonfrauds[nonfrauds>upper].index,inplace=True)\n",
    "            no_outliers.drop(index=frauds[frauds<lower].index,inplace=True)\n",
    "        \n",
    "        # If negatively correlated...\n",
    "        # Drop nonfrauds below lower bound, and frauds above upper bound\n",
    "        elif correlation < 0: \n",
    "            no_outliers.drop(index=nonfrauds[nonfrauds<lower].index,inplace=True)\n",
    "            no_outliers.drop(index=frauds[frauds>upper].index,inplace=True)\n",
    "        \n",
    "print('\\nData shape before removing outliers:', balanced.shape)\n",
    "print('\\nCounts of frauds VS non-frauds in previous data:')\n",
    "print(balanced.Class.value_counts())\n",
    "print('-'*40)\n",
    "print('-'*40)\n",
    "print('\\nData shape after removing outliers:', no_outliers.shape)\n",
    "print('\\nCounts of frauds VS non-frauds in new data:')\n",
    "print(no_outliers.Class.value_counts())"
   ]
  },
  {
   "cell_type": "markdown",
   "metadata": {
    "_uuid": "76adfeab64512fbaac9df1196c1fd4eccd6b8bb0"
   },
   "source": [
    "- Outliers from high-correlation features are now gone. However, this created a class-imbalance again. \n",
    "- I will balance the classes later when I reduce the model size. Reduction is important because classifiers may lag on high-dimensional datasets. "
   ]
  },
  {
   "cell_type": "code",
   "execution_count": 33,
   "metadata": {
    "_uuid": "37148a8688d0b5c3b357e391a6e0d9b6fcda746e",
    "scrolled": true
   },
   "outputs": [
    {
     "data": {
      "image/png": "[encoded data removed]",
      "text/plain": [
       "<Figure size 1152x288 with 1 Axes>"
      ]
     },
     "metadata": {},
     "output_type": "display_data"
    }
   ],
   "source": [
    "no_outliers.iloc[:,:-1].boxplot(rot=90,figsize=(16,4))\n",
    "plt.title('Distributions with Less Outliers', fontsize=17)\n",
    "plt.show()"
   ]
  },
  {
   "cell_type": "markdown",
   "metadata": {
    "_uuid": "63bc42dd368c0fe7b9258359adf0aa35e9d2dcd9"
   },
   "source": [
    "### Feature Selection\n",
    "\n",
    "- I'll use the correlation matrix again, but this time I'll filter out features with low predictive power, instead of outliers.\n",
    "\n",
    "But first, let's see what the outlier removal did to the correlations."
   ]
  },
  {
   "cell_type": "code",
   "execution_count": 34,
   "metadata": {
    "_uuid": "c29c18178f1d5baeea5a89053ba80ccb5572b604"
   },
   "outputs": [],
   "source": [
    "feat_sel =pd.DataFrame(no_outliers.copy())"
   ]
  },
  {
   "cell_type": "code",
   "execution_count": 35,
   "metadata": {
    "_uuid": "40ba5b99f17220d1abf89d0b71709e35ae88b0fd"
   },
   "outputs": [
    {
     "data": {
      "image/png": "[encoded data removed]",
      "text/plain": [
       "<Figure size 1008x432 with 1 Axes>"
      ]
     },
     "metadata": {},
     "output_type": "display_data"
    }
   ],
   "source": [
    "# Make a dataframe with the class-correlations before removing outliers\n",
    "corr_change = pd.DataFrame()\n",
    "corr_change['correlation']= bal_corr.Class\n",
    "corr_change['origin']= 'w/outliers'\n",
    "\n",
    "# Make a dataframe with class-correlations after removing outliers \n",
    "corr_other = pd.DataFrame()\n",
    "corr_other['correlation']= feat_sel.corr().Class\n",
    "corr_other['origin']= 'no_outliers'\n",
    "\n",
    "# Join them\n",
    "corr_change = corr_change.append(corr_other)\n",
    "\n",
    "plt.figure(figsize=(14,6))\n",
    "plt.xticks(rotation=90)\n",
    "\n",
    "# Plot them\n",
    "sns.set_style('darkgrid')\n",
    "plt.title('Class Correlation per Feature. With VS W/out Outliers', fontsize=17)\n",
    "sns.barplot(data=corr_change,x=corr_change.index,y='correlation',hue='origin')\n",
    "plt.show()"
   ]
  },
  {
   "cell_type": "markdown",
   "metadata": {
    "_uuid": "fc4aae692faf691f0b4e3870f3dd4e7fe83befc7"
   },
   "source": [
    "- It's obvious that most features gained correlation power, regardless of direction. Positive correlations went higher up, negative correlations went lower down. Also, the highest correlations flattened out, while the smallest ones rose to relevance.\n",
    "- It is clearly an indicator that the outliers were causing noise, and therefore dimming the correlation-potential of each feature."
   ]
  },
  {
   "cell_type": "code",
   "execution_count": 36,
   "metadata": {
    "_uuid": "350d2774c129f966b6c3a808c1b8a290e5eff50c",
    "scrolled": true
   },
   "outputs": [
    {
     "name": "stdout",
     "output_type": "stream",
     "text": [
      "\n",
      "Data shape before feature selection: (443406, 34)\n",
      "\n",
      "Counts of frauds VS non-frauds before feature selection:\n",
      "0    224779\n",
      "1    218627\n",
      "Name: Class, dtype: int64\n",
      "----------------------------------------\n",
      "----------------------------------------\n",
      "\n",
      "Data shape after feature selection: (443406, 26)\n",
      "\n",
      "Counts of frauds VS non-frauds in new data:\n",
      "0    224779\n",
      "1    218627\n",
      "Name: Class, dtype: int64\n"
     ]
    }
   ],
   "source": [
    "# Feature Selection based on correlation with Class\n",
    "\n",
    "print('\\nData shape before feature selection:', feat_sel.shape)\n",
    "print('\\nCounts of frauds VS non-frauds before feature selection:')\n",
    "print(feat_sel.Class.value_counts())\n",
    "print('-'*40)\n",
    "\n",
    "# Correlation matrix after removing outliers\n",
    "new_corr = feat_sel.corr()\n",
    "\n",
    "for col in new_corr.Class.index[:-1]:\n",
    "    # Pick desired cutoff for dropping features. In absolute-value terms.\n",
    "    if np.absolute(new_corr.loc['Class',col]) < 0.1:\n",
    "        # Drop the feature if correlation is below cutoff\n",
    "        feat_sel.drop(columns=col,inplace=True)\n",
    "\n",
    "print('-'*40)\n",
    "print('\\nData shape after feature selection:', feat_sel.shape)\n",
    "print('\\nCounts of frauds VS non-frauds in new data:')\n",
    "print(feat_sel.Class.value_counts())"
   ]
  },
  {
   "cell_type": "code",
   "execution_count": 37,
   "metadata": {
    "_uuid": "520fdc3ee11a8d7c0b0d7586467a012695165ffb"
   },
   "outputs": [
    {
     "data": {
      "image/png": "[encoded data removed]",
      "text/plain": [
       "<Figure size 1152x288 with 1 Axes>"
      ]
     },
     "metadata": {},
     "output_type": "display_data"
    }
   ],
   "source": [
    "feat_sel.iloc[:,:-1].boxplot(rot=90,figsize=(16,4))\n",
    "plt.title('Distribution of Features Selected', fontsize=17)\n",
    "plt.show()"
   ]
  },
  {
   "cell_type": "markdown",
   "metadata": {
    "_uuid": "65aedaaef40f36776e0f1f1eaf777a6e60812c71"
   },
   "source": [
    "- So this removed a few features from our 'processed' dataset. Aside from its large size, it should be ready for predictions."
   ]
  },
  {
   "cell_type": "markdown",
   "metadata": {
    "_uuid": "d225a71df0be816493ab43d2fdb7da19a37bcf26"
   },
   "source": [
    "## Test and Compare Classifiers\n",
    "**Approach:**\n",
    "\n",
    "- I'll evaluate improvements based on **fraud recall**, since its crucial to prevent frauds. This might come at the expense of more false-alarms, which would decrease the overall accuracy. **The main purpose of this project will be to identify all frauds, while minimizing false-positives.**\n",
    "\n",
    "- I'll define outcomes and predictors, reduce model size, and classify."
   ]
  },
  {
   "cell_type": "code",
   "execution_count": 38,
   "metadata": {
    "_uuid": "dc7034ceeedfc44872413979ca3069c0a87ff485",
    "scrolled": true
   },
   "outputs": [
    {
     "name": "stdout",
     "output_type": "stream",
     "text": [
      "\n",
      "X_train shape after reduction: (437254, 25)\n",
      "\n",
      "Counts of frauds VS non-frauds in y_train:\n",
      "(array([0, 1]), array([218627, 218627]))\n"
     ]
    }
   ],
   "source": [
    "# Undersample model for efficiency and balance classes.\n",
    "\n",
    "X_train = feat_sel.drop('Class',1)\n",
    "y_train = feat_sel.Class\n",
    "\n",
    "# After feature-selection, X_test needs to include only the same features as X_train\n",
    "cols = X_train.columns\n",
    "X_test = X_test[cols]\n",
    "\n",
    "# Undersample and balance classes\n",
    "X_train, y_train = RandomUnderSampler().fit_sample(X_train,y_train)\n",
    "\n",
    "print('\\nX_train shape after reduction:', X_train.shape)\n",
    "print('\\nCounts of frauds VS non-frauds in y_train:')\n",
    "print(np.unique(y_train, return_counts=True))"
   ]
  },
  {
   "cell_type": "markdown",
   "metadata": {
    "_uuid": "d3293f134672fad0a6e34d84b0c147d0b1622af9"
   },
   "source": [
    "### First-Run: Predictions on Default Parameters\n",
    "\n",
    "- Here, I'll try a few simple classifiers and compare their performance. "
   ]
  },
  {
   "cell_type": "code",
   "execution_count": 39,
   "metadata": {
    "_uuid": "30cfb613b26a6c4f06f1999d62f5426b8e7c3c52"
   },
   "outputs": [],
   "source": [
    "# DataFrame to store classifier performance\n",
    "performance = pd.DataFrame(columns=['Train_Recall','Test_Recall','Test_Specificity'])"
   ]
  },
  {
   "cell_type": "code",
   "execution_count": 40,
   "metadata": {
    "_uuid": "8e3fb54a245efed143595527a221bcfad92ba7c2",
    "scrolled": false
   },
   "outputs": [
    {
     "name": "stdout",
     "output_type": "stream",
     "text": [
      "\n",
      " ---------------------------------------- \n",
      " SVC \n",
      " ----------------------------------------\n",
      "TRAIN GROUP\n",
      "\n",
      "Cross-validation recall scores: [1. 1. 1.]\n",
      "Mean recall score: 1.0\n",
      "\n",
      "TEST GROUP\n",
      "\n",
      "Recall: 0.8163265306122449\n"
     ]
    },
    {
     "data": {
      "image/png": "[encoded data removed]",
      "text/plain": [
       "<Figure size 432x288 with 2 Axes>"
      ]
     },
     "metadata": {},
     "output_type": "display_data"
    },
    {
     "name": "stdout",
     "output_type": "stream",
     "text": [
      "\n",
      " ---------------------------------------- \n",
      " LogisticRegression \n",
      " ----------------------------------------\n",
      "TRAIN GROUP\n",
      "\n",
      "Cross-validation recall scores: [0.99400351 0.99448378 0.99377015]\n",
      "Mean recall score: 0.9940858159529172\n",
      "\n",
      "TEST GROUP\n",
      "\n",
      "Recall: 0.9795918367346939\n"
     ]
    },
    {
     "data": {
      "image/png": "[encoded data removed]",
      "text/plain": [
       "<Figure size 432x288 with 2 Axes>"
      ]
     },
     "metadata": {},
     "output_type": "display_data"
    },
    {
     "name": "stdout",
     "output_type": "stream",
     "text": [
      "\n",
      " ---------------------------------------- \n",
      " DecisionTreeClassifier \n",
      " ----------------------------------------\n",
      "TRAIN GROUP\n",
      "\n",
      "Cross-validation recall scores: [0.99986278 0.99993139 0.9998765 ]\n",
      "Mean recall score: 0.9998902239260336\n",
      "\n",
      "TEST GROUP\n",
      "\n",
      "Recall: 0.8367346938775511\n"
     ]
    },
    {
     "data": {
      "image/png": "[encoded data removed]",
      "text/plain": [
       "<Figure size 432x288 with 2 Axes>"
      ]
     },
     "metadata": {},
     "output_type": "display_data"
    },
    {
     "name": "stdout",
     "output_type": "stream",
     "text": [
      "\n",
      " ---------------------------------------- \n",
      " KNeighborsClassifier \n",
      " ----------------------------------------\n",
      "TRAIN GROUP\n",
      "\n",
      "Cross-validation recall scores: [1. 1. 1.]\n",
      "Mean recall score: 1.0\n",
      "\n",
      "TEST GROUP\n",
      "\n",
      "Recall: 0.8571428571428571\n"
     ]
    },
    {
     "data": {
      "image/png": "[encoded data removed]",
      "text/plain": [
       "<Figure size 432x288 with 2 Axes>"
      ]
     },
     "metadata": {},
     "output_type": "display_data"
    }
   ],
   "source": [
    "# Load simple classifiers\n",
    "classifiers = [SVC(max_iter=1000),LogisticRegression(),\n",
    "               DecisionTreeClassifier(),KNeighborsClassifier()]\n",
    "\n",
    "# Get a classification report from each algorithm\n",
    "for clf in classifiers:    \n",
    "    \n",
    "    # Heading\n",
    "    print('\\n','-'*40,'\\n',clf.__class__.__name__,'\\n','-'*40)\n",
    "    \n",
    "    # Cross-validate on the train data\n",
    "    print(\"TRAIN GROUP\")\n",
    "    train_cv = cross_val_score(X=X_train, y=y_train, \n",
    "                               estimator=clf, scoring=recall,cv=3)\n",
    "    print(\"\\nCross-validation recall scores:\",train_cv)\n",
    "    print(\"Mean recall score:\",train_cv.mean())\n",
    "\n",
    "    # Now predict on the test group\n",
    "    print(\"\\nTEST GROUP\")\n",
    "    y_pred = clf.fit(X_train, y_train).predict(X_test)\n",
    "    print(\"\\nRecall:\",recall_score(y_test,y_pred))\n",
    "    \n",
    "    # Print confusion matrix\n",
    "    conf_matrix = confusion_matrix(y_test,y_pred)\n",
    "    sns.heatmap(conf_matrix, annot=True,fmt='d', cmap=plt.cm.copper)\n",
    "    plt.show()\n",
    "    \n",
    "    # Store results\n",
    "    performance.loc[clf.__class__.__name__+'_default',\n",
    "                    ['Train_Recall','Test_Recall','Test_Specificity']] = [\n",
    "        train_cv.mean(),\n",
    "        recall_score(y_test,y_pred),\n",
    "        conf_matrix[0,0]/conf_matrix[0,:].sum()\n",
    "    ]"
   ]
  },
  {
   "cell_type": "code",
   "execution_count": 41,
   "metadata": {
    "_uuid": "db754984247cdd5ab96ec3a111c02d15e3667028",
    "scrolled": true
   },
   "outputs": [
    {
     "data": {
      "text/html": [
       "<div>\n",
       "<style scoped>\n",
       "    .dataframe tbody tr th:only-of-type {\n",
       "        vertical-align: middle;\n",
       "    }\n",
       "\n",
       "    .dataframe tbody tr th {\n",
       "        vertical-align: top;\n",
       "    }\n",
       "\n",
       "    .dataframe thead th {\n",
       "        text-align: right;\n",
       "    }\n",
       "</style>\n",
       "<table border=\"1\" class=\"dataframe\">\n",
       "  <thead>\n",
       "    <tr style=\"text-align: right;\">\n",
       "      <th></th>\n",
       "      <th>Train_Recall</th>\n",
       "      <th>Test_Recall</th>\n",
       "      <th>Test_Specificity</th>\n",
       "    </tr>\n",
       "  </thead>\n",
       "  <tbody>\n",
       "    <tr>\n",
       "      <th>SVC_default</th>\n",
       "      <td>1</td>\n",
       "      <td>0.816327</td>\n",
       "      <td>0.999437</td>\n",
       "    </tr>\n",
       "    <tr>\n",
       "      <th>LogisticRegression_default</th>\n",
       "      <td>0.994086</td>\n",
       "      <td>0.979592</td>\n",
       "      <td>0.987233</td>\n",
       "    </tr>\n",
       "    <tr>\n",
       "      <th>DecisionTreeClassifier_default</th>\n",
       "      <td>0.99989</td>\n",
       "      <td>0.836735</td>\n",
       "      <td>0.999631</td>\n",
       "    </tr>\n",
       "    <tr>\n",
       "      <th>KNeighborsClassifier_default</th>\n",
       "      <td>1</td>\n",
       "      <td>0.857143</td>\n",
       "      <td>0.999138</td>\n",
       "    </tr>\n",
       "  </tbody>\n",
       "</table>\n",
       "</div>"
      ],
      "text/plain": [
       "                               Train_Recall       ...        Test_Specificity\n",
       "SVC_default                               1       ...                0.999437\n",
       "LogisticRegression_default         0.994086       ...                0.987233\n",
       "DecisionTreeClassifier_default      0.99989       ...                0.999631\n",
       "KNeighborsClassifier_default              1       ...                0.999138\n",
       "\n",
       "[4 rows x 3 columns]"
      ]
     },
     "execution_count": 41,
     "metadata": {},
     "output_type": "execute_result"
    }
   ],
   "source": [
    "# Scores obtained\n",
    "performance"
   ]
  },
  {
   "cell_type": "markdown",
   "metadata": {
    "_uuid": "64f8ec1814afba62184a339ed51e31b22f4a2eec"
   },
   "source": [
    "- These results are very promising for a first run, considering I didn't tweak any of the parameters.\n",
    "- Now let's do a GridSearchCV to find the best parameters for these classifiers."
   ]
  },
  {
   "cell_type": "markdown",
   "metadata": {
    "_uuid": "b73ec57423ba68f734df5c0b27818c06b26e8d12"
   },
   "source": [
    "### Logistic Regression- GridSearch & Recall Score. \n",
    "\n",
    "- `GridSearchCV` compares parameter combinations to find the highest score, determined by the user. I'll set `recall_score` to be the determinant factor for the best parameter combination.\n",
    "\n",
    "- The `class_weight` parameter greatly skews the classification emphasis from focusing on frauds at the expense of more non-fraud errors. For now, I'll prioritize fraud prevention. Later, I'll improve on specificity.\n",
    "\n",
    "**About the parameters to optimize**\n",
    "- Solvers `'newton-cg', 'lbfgs', and 'sag'` handle only `L2`-penalty. So we'll have to do this using two parameter grids: First for `L2`-only solvers, and then for `L1 and L2`-solvers."
   ]
  },
  {
   "cell_type": "code",
   "execution_count": 42,
   "metadata": {
    "_uuid": "85dfdcbf9541acdfc34604f3ad5f2abe889de1a3"
   },
   "outputs": [
    {
     "name": "stdout",
     "output_type": "stream",
     "text": [
      "\n",
      " ---------------------------------------- \n",
      " LogisticRegression \n",
      " ----------------------------------------\n",
      "Best parameters: \n",
      "\n",
      " {'C': 0.5, 'penalty': 'l2', 'solver': 'newton-cg'} \n",
      "\n",
      "TRAIN GROUP\n",
      "\n",
      "Cross-validation recall scores: [1. 1. 1.]\n",
      "Mean recall score: 1.0\n",
      "\n",
      "TEST GROUP\n",
      "\n",
      "Recall: 1.0\n",
      "              precision    recall  f1-score   support\n",
      "\n",
      "           0       1.00      0.97      0.99     56864\n",
      "           1       0.06      1.00      0.11        98\n",
      "\n",
      "   micro avg       0.97      0.97      0.97     56962\n",
      "   macro avg       0.53      0.99      0.55     56962\n",
      "weighted avg       1.00      0.97      0.98     56962\n",
      "\n"
     ]
    },
    {
     "data": {
      "image/png": "[encoded data removed]",
      "text/plain": [
       "<Figure size 432x288 with 2 Axes>"
      ]
     },
     "metadata": {},
     "output_type": "display_data"
    }
   ],
   "source": [
    "# Parameters to optimize\n",
    "params = [{\n",
    "    'solver': ['newton-cg', 'lbfgs', 'sag'],\n",
    "    'C': [0.3, 0.5, 0.7, 1],\n",
    "    'penalty': ['l2']\n",
    "    },{\n",
    "    'solver': ['liblinear','saga'],\n",
    "    'C': [0.3, 0.5, 0.7, 1],\n",
    "    'penalty': ['l1','l2']\n",
    "}]\n",
    "\n",
    "clf = LogisticRegression(\n",
    "    n_jobs=-1, # Use all CPU\n",
    "    class_weight={0:0.1,1:1} # Prioritize frauds\n",
    ")\n",
    "\n",
    "# Load GridSearchCV\n",
    "search = GridSearchCV(\n",
    "    estimator=clf,\n",
    "    param_grid=params,\n",
    "    n_jobs=-1,\n",
    "    scoring=recall\n",
    ")\n",
    "\n",
    "# Train search object\n",
    "search.fit(X_train, y_train)\n",
    "\n",
    "# Heading\n",
    "print('\\n','-'*40,'\\n',clf.__class__.__name__,'\\n','-'*40)\n",
    "\n",
    "# Extract best estimator\n",
    "best = search.best_estimator_\n",
    "print('Best parameters: \\n\\n',search.best_params_,'\\n')\n",
    "\n",
    "# Cross-validate on the train data\n",
    "print(\"TRAIN GROUP\")\n",
    "train_cv = cross_val_score(X=X_train, y=y_train, \n",
    "                           estimator=best, scoring=recall,cv=3)\n",
    "print(\"\\nCross-validation recall scores:\",train_cv)\n",
    "print(\"Mean recall score:\",train_cv.mean())\n",
    "\n",
    "# Now predict on the test group\n",
    "print(\"\\nTEST GROUP\")\n",
    "y_pred = best.fit(X_train, y_train).predict(X_test)\n",
    "print(\"\\nRecall:\",recall_score(y_test,y_pred))\n",
    "\n",
    "# Get classification report\n",
    "print(classification_report(y_test, y_pred))\n",
    "\n",
    "# Print confusion matrix\n",
    "conf_matrix = confusion_matrix(y_test,y_pred)\n",
    "sns.heatmap(conf_matrix, annot=True, fmt='d', cmap=plt.cm.copper)\n",
    "plt.show()\n",
    "    \n",
    "# Store results\n",
    "performance.loc[clf.__class__.__name__+'_search',\n",
    "                ['Train_Recall','Test_Recall','Test_Specificity']] = [\n",
    "    train_cv.mean(),\n",
    "    recall_score(y_test,y_pred),\n",
    "    conf_matrix[0,0]/conf_matrix[0,:].sum()\n",
    "]"
   ]
  },
  {
   "cell_type": "code",
   "execution_count": 43,
   "metadata": {
    "_uuid": "7ba9d4cb78c260d41e91e394db517f75270cd012"
   },
   "outputs": [
    {
     "data": {
      "text/html": [
       "<div>\n",
       "<style scoped>\n",
       "    .dataframe tbody tr th:only-of-type {\n",
       "        vertical-align: middle;\n",
       "    }\n",
       "\n",
       "    .dataframe tbody tr th {\n",
       "        vertical-align: top;\n",
       "    }\n",
       "\n",
       "    .dataframe thead th {\n",
       "        text-align: right;\n",
       "    }\n",
       "</style>\n",
       "<table border=\"1\" class=\"dataframe\">\n",
       "  <thead>\n",
       "    <tr style=\"text-align: right;\">\n",
       "      <th></th>\n",
       "      <th>Train_Recall</th>\n",
       "      <th>Test_Recall</th>\n",
       "      <th>Test_Specificity</th>\n",
       "    </tr>\n",
       "  </thead>\n",
       "  <tbody>\n",
       "    <tr>\n",
       "      <th>SVC_default</th>\n",
       "      <td>1</td>\n",
       "      <td>0.816327</td>\n",
       "      <td>0.999437</td>\n",
       "    </tr>\n",
       "    <tr>\n",
       "      <th>LogisticRegression_default</th>\n",
       "      <td>0.994086</td>\n",
       "      <td>0.979592</td>\n",
       "      <td>0.987233</td>\n",
       "    </tr>\n",
       "    <tr>\n",
       "      <th>DecisionTreeClassifier_default</th>\n",
       "      <td>0.99989</td>\n",
       "      <td>0.836735</td>\n",
       "      <td>0.999631</td>\n",
       "    </tr>\n",
       "    <tr>\n",
       "      <th>KNeighborsClassifier_default</th>\n",
       "      <td>1</td>\n",
       "      <td>0.857143</td>\n",
       "      <td>0.999138</td>\n",
       "    </tr>\n",
       "    <tr>\n",
       "      <th>LogisticRegression_search</th>\n",
       "      <td>1</td>\n",
       "      <td>1</td>\n",
       "      <td>0.973287</td>\n",
       "    </tr>\n",
       "  </tbody>\n",
       "</table>\n",
       "</div>"
      ],
      "text/plain": [
       "                               Train_Recall       ...        Test_Specificity\n",
       "SVC_default                               1       ...                0.999437\n",
       "LogisticRegression_default         0.994086       ...                0.987233\n",
       "DecisionTreeClassifier_default      0.99989       ...                0.999631\n",
       "KNeighborsClassifier_default              1       ...                0.999138\n",
       "LogisticRegression_search                 1       ...                0.973287\n",
       "\n",
       "[5 rows x 3 columns]"
      ]
     },
     "execution_count": 43,
     "metadata": {},
     "output_type": "execute_result"
    }
   ],
   "source": [
    "performance"
   ]
  },
  {
   "cell_type": "markdown",
   "metadata": {
    "_uuid": "55576f087731b38c1dd1aa4ce332637c361b64db"
   },
   "source": [
    "## Pyrrhic Victory- \n",
    "**A victory that inflicts such a devastating toll on the victor that it is tantamount to defeat. Someone who wins a Pyrrhic victory has also taken a heavy toll that negates any true sense of achievement.**\n",
    "\n",
    "- Well, fraud recall improved on Logistic Regression.\n",
    "- However, this has come at the cost of horribly low specificity."
   ]
  },
  {
   "cell_type": "markdown",
   "metadata": {
    "_uuid": "1d5cbc145a9ed025c9d2bac09b4588c8a6047232"
   },
   "source": [
    "- `GridSearch` allows us to see the results that informed the choice of best parameters, based on our scoring function. In this case, `recall_score`. Let's see how they compare."
   ]
  },
  {
   "cell_type": "code",
   "execution_count": 44,
   "metadata": {
    "_uuid": "751ff7efee53bd8fcd150d0ffa0688221a7999dd",
    "scrolled": true
   },
   "outputs": [
    {
     "data": {
      "text/html": [
       "<div>\n",
       "<style scoped>\n",
       "    .dataframe tbody tr th:only-of-type {\n",
       "        vertical-align: middle;\n",
       "    }\n",
       "\n",
       "    .dataframe tbody tr th {\n",
       "        vertical-align: top;\n",
       "    }\n",
       "\n",
       "    .dataframe thead th {\n",
       "        text-align: right;\n",
       "    }\n",
       "</style>\n",
       "<table border=\"1\" class=\"dataframe\">\n",
       "  <thead>\n",
       "    <tr style=\"text-align: right;\">\n",
       "      <th></th>\n",
       "      <th>param_C</th>\n",
       "      <th>param_penalty</th>\n",
       "      <th>param_solver</th>\n",
       "      <th>params</th>\n",
       "      <th>split0_test_score</th>\n",
       "      <th>split1_test_score</th>\n",
       "      <th>split2_test_score</th>\n",
       "      <th>mean_test_score</th>\n",
       "      <th>std_test_score</th>\n",
       "      <th>rank_test_score</th>\n",
       "      <th>split0_train_score</th>\n",
       "      <th>split1_train_score</th>\n",
       "      <th>split2_train_score</th>\n",
       "      <th>mean_train_score</th>\n",
       "      <th>std_train_score</th>\n",
       "    </tr>\n",
       "  </thead>\n",
       "  <tbody>\n",
       "    <tr>\n",
       "      <th>22</th>\n",
       "      <td>0.7</td>\n",
       "      <td>l2</td>\n",
       "      <td>liblinear</td>\n",
       "      <td>{'C': 0.7, 'penalty': 'l2', 'solver': 'libline...</td>\n",
       "      <td>1.0</td>\n",
       "      <td>1.0</td>\n",
       "      <td>1.0</td>\n",
       "      <td>1.0</td>\n",
       "      <td>0.0</td>\n",
       "      <td>1</td>\n",
       "      <td>1.0</td>\n",
       "      <td>1.0</td>\n",
       "      <td>0.999986</td>\n",
       "      <td>0.999995</td>\n",
       "      <td>0.000006</td>\n",
       "    </tr>\n",
       "    <tr>\n",
       "      <th>3</th>\n",
       "      <td>0.5</td>\n",
       "      <td>l2</td>\n",
       "      <td>newton-cg</td>\n",
       "      <td>{'C': 0.5, 'penalty': 'l2', 'solver': 'newton-...</td>\n",
       "      <td>1.0</td>\n",
       "      <td>1.0</td>\n",
       "      <td>1.0</td>\n",
       "      <td>1.0</td>\n",
       "      <td>0.0</td>\n",
       "      <td>1</td>\n",
       "      <td>1.0</td>\n",
       "      <td>1.0</td>\n",
       "      <td>0.999986</td>\n",
       "      <td>0.999995</td>\n",
       "      <td>0.000006</td>\n",
       "    </tr>\n",
       "    <tr>\n",
       "      <th>4</th>\n",
       "      <td>0.5</td>\n",
       "      <td>l2</td>\n",
       "      <td>lbfgs</td>\n",
       "      <td>{'C': 0.5, 'penalty': 'l2', 'solver': 'lbfgs'}</td>\n",
       "      <td>1.0</td>\n",
       "      <td>1.0</td>\n",
       "      <td>1.0</td>\n",
       "      <td>1.0</td>\n",
       "      <td>0.0</td>\n",
       "      <td>1</td>\n",
       "      <td>1.0</td>\n",
       "      <td>1.0</td>\n",
       "      <td>0.999986</td>\n",
       "      <td>0.999995</td>\n",
       "      <td>0.000006</td>\n",
       "    </tr>\n",
       "    <tr>\n",
       "      <th>26</th>\n",
       "      <td>1</td>\n",
       "      <td>l2</td>\n",
       "      <td>liblinear</td>\n",
       "      <td>{'C': 1, 'penalty': 'l2', 'solver': 'liblinear'}</td>\n",
       "      <td>1.0</td>\n",
       "      <td>1.0</td>\n",
       "      <td>1.0</td>\n",
       "      <td>1.0</td>\n",
       "      <td>0.0</td>\n",
       "      <td>1</td>\n",
       "      <td>1.0</td>\n",
       "      <td>1.0</td>\n",
       "      <td>0.999993</td>\n",
       "      <td>0.999998</td>\n",
       "      <td>0.000003</td>\n",
       "    </tr>\n",
       "    <tr>\n",
       "      <th>6</th>\n",
       "      <td>0.7</td>\n",
       "      <td>l2</td>\n",
       "      <td>newton-cg</td>\n",
       "      <td>{'C': 0.7, 'penalty': 'l2', 'solver': 'newton-...</td>\n",
       "      <td>1.0</td>\n",
       "      <td>1.0</td>\n",
       "      <td>1.0</td>\n",
       "      <td>1.0</td>\n",
       "      <td>0.0</td>\n",
       "      <td>1</td>\n",
       "      <td>1.0</td>\n",
       "      <td>1.0</td>\n",
       "      <td>0.999993</td>\n",
       "      <td>0.999998</td>\n",
       "      <td>0.000003</td>\n",
       "    </tr>\n",
       "  </tbody>\n",
       "</table>\n",
       "</div>"
      ],
      "text/plain": [
       "   param_C param_penalty       ...       mean_train_score std_train_score\n",
       "22     0.7            l2       ...               0.999995        0.000006\n",
       "3      0.5            l2       ...               0.999995        0.000006\n",
       "4      0.5            l2       ...               0.999995        0.000006\n",
       "26       1            l2       ...               0.999998        0.000003\n",
       "6      0.7            l2       ...               0.999998        0.000003\n",
       "\n",
       "[5 rows x 15 columns]"
      ]
     },
     "execution_count": 44,
     "metadata": {},
     "output_type": "execute_result"
    }
   ],
   "source": [
    "pd.DataFrame(search.cv_results_).iloc[:,4:].sort_values(by='rank_test_score').head()"
   ]
  },
  {
   "cell_type": "markdown",
   "metadata": {
    "_uuid": "04bd4759bc5d6a03debcda1bb8748bb55d2da7d9"
   },
   "source": [
    "- It seems like the top 5 combinations had a perfect `recall_score`, which explain why they all have a rank of `1`. This means there was no need for a real comparison for the 'best' parameters, because they all were perfect. We simply got the parameters that were first on the list of **perfect** combinations.\n",
    "- Since we wanted to prioritize fraud recall, we set a very skewed `class_weight` parameter. This is why the results produced such perfect recall scores, at the expense of specificity.\n",
    "- Let's find the right balance between perfect recall and higher specificity."
   ]
  },
  {
   "cell_type": "markdown",
   "metadata": {
    "_uuid": "ff32dc1a32c700c7a3aceae7bec874dd0cf7861a"
   },
   "source": [
    "## Optimize Specificity while Maintaining Perfect Recall\n",
    "\n",
    "- In this section I'll implement a few ideas to minimize false-positives (non-frauds identified as frauds), while still predicting all frauds correctly. \n",
    "\n",
    "### Custom Scoring Function\n",
    "\n",
    "- Parameter search functions use a scoring parameter to determine the best parameter combination. In the previous experiments we've used recall score as the basis. Now we want to pick a parameter combination that also takes specificity into account, while ensuring perfect recall."
   ]
  },
  {
   "cell_type": "code",
   "execution_count": 45,
   "metadata": {
    "_uuid": "5a6daf93b8614f26aab183dd89bda62261f5c0fc"
   },
   "outputs": [],
   "source": [
    "# Make a scoring function that improves specificity while identifying all frauds\n",
    "def recall_optim(y_true, y_pred):\n",
    "    \n",
    "    conf_matrix = confusion_matrix(y_true, y_pred)\n",
    "    \n",
    "    # Recall will be worth a greater value than specificity\n",
    "    rec = recall_score(y_true, y_pred) * 0.8 \n",
    "    spe = conf_matrix[0,0]/conf_matrix[0,:].sum() * 0.2 \n",
    "    \n",
    "    # Imperfect recalls will lose a penalty\n",
    "    # This means the best results will have perfect recalls and compete for specificity\n",
    "    if rec < 0.8:\n",
    "        rec -= 0.2\n",
    "    return rec + spe \n",
    "    \n",
    "# Create a scoring callable based on the scoring function\n",
    "optimize = make_scorer(recall_optim)"
   ]
  },
  {
   "cell_type": "markdown",
   "metadata": {
    "_uuid": "fbbef96c2708222ff8f37db2b8123221791c4702"
   },
   "source": [
    "- Now add the optimized scores to the existing performance DataFrame"
   ]
  },
  {
   "cell_type": "code",
   "execution_count": 46,
   "metadata": {
    "_uuid": "84ae001995094bf3e8385a76f8090ce7d637529f"
   },
   "outputs": [
    {
     "data": {
      "text/html": [
       "<div>\n",
       "<style scoped>\n",
       "    .dataframe tbody tr th:only-of-type {\n",
       "        vertical-align: middle;\n",
       "    }\n",
       "\n",
       "    .dataframe tbody tr th {\n",
       "        vertical-align: top;\n",
       "    }\n",
       "\n",
       "    .dataframe thead th {\n",
       "        text-align: right;\n",
       "    }\n",
       "</style>\n",
       "<table border=\"1\" class=\"dataframe\">\n",
       "  <thead>\n",
       "    <tr style=\"text-align: right;\">\n",
       "      <th></th>\n",
       "      <th>Train_Recall</th>\n",
       "      <th>Test_Recall</th>\n",
       "      <th>Test_Specificity</th>\n",
       "      <th>Optimize</th>\n",
       "    </tr>\n",
       "  </thead>\n",
       "  <tbody>\n",
       "    <tr>\n",
       "      <th>SVC_default</th>\n",
       "      <td>1</td>\n",
       "      <td>0.816327</td>\n",
       "      <td>0.999437</td>\n",
       "      <td>0.652949</td>\n",
       "    </tr>\n",
       "    <tr>\n",
       "      <th>LogisticRegression_default</th>\n",
       "      <td>0.994086</td>\n",
       "      <td>0.979592</td>\n",
       "      <td>0.987233</td>\n",
       "      <td>0.781120</td>\n",
       "    </tr>\n",
       "    <tr>\n",
       "      <th>DecisionTreeClassifier_default</th>\n",
       "      <td>0.99989</td>\n",
       "      <td>0.836735</td>\n",
       "      <td>0.999631</td>\n",
       "      <td>0.669314</td>\n",
       "    </tr>\n",
       "    <tr>\n",
       "      <th>KNeighborsClassifier_default</th>\n",
       "      <td>1</td>\n",
       "      <td>0.857143</td>\n",
       "      <td>0.999138</td>\n",
       "      <td>0.685542</td>\n",
       "    </tr>\n",
       "    <tr>\n",
       "      <th>LogisticRegression_search</th>\n",
       "      <td>1</td>\n",
       "      <td>1</td>\n",
       "      <td>0.973287</td>\n",
       "      <td>0.994657</td>\n",
       "    </tr>\n",
       "  </tbody>\n",
       "</table>\n",
       "</div>"
      ],
      "text/plain": [
       "                               Train_Recall    ...     Optimize\n",
       "SVC_default                               1    ...     0.652949\n",
       "LogisticRegression_default         0.994086    ...     0.781120\n",
       "DecisionTreeClassifier_default      0.99989    ...     0.669314\n",
       "KNeighborsClassifier_default              1    ...     0.685542\n",
       "LogisticRegression_search                 1    ...     0.994657\n",
       "\n",
       "[5 rows x 4 columns]"
      ]
     },
     "metadata": {},
     "output_type": "display_data"
    }
   ],
   "source": [
    "scores = []\n",
    "for rec, spe in performance[['Test_Recall','Test_Specificity']].values:\n",
    "    rec = rec * 0.8\n",
    "    spe = spe * 0.2\n",
    "    if rec < 0.8:\n",
    "        rec -= 0.20\n",
    "    scores.append(rec + spe)\n",
    "performance['Optimize'] = scores\n",
    "display(performance)"
   ]
  },
  {
   "cell_type": "markdown",
   "metadata": {
    "_uuid": "6126c949c6502abba713f6dc5781794d4d992864"
   },
   "source": [
    "### Iteration Function\n",
    "\n",
    "Since I'll apply the new settings to several classifiers, I'll define a function to reuse several times.\n",
    "- It'll take the parameters you want to compare, and the classifier you want to try.\n",
    "- It'll determine best parameters based on custom scoring, do cross-validation for recall on train data, then train and predict the test set. \n",
    "- It'll show us the recall scores for train and test, a confusion matrix, a classification report, the GridSearch' top combinations, and a view of the performance DataFrame."
   ]
  },
  {
   "cell_type": "code",
   "execution_count": 47,
   "metadata": {
    "_uuid": "c5ac1f0c10e82f5ce9372991d974544b5759ca8f",
    "slideshow": {
     "slide_type": "-"
    }
   },
   "outputs": [],
   "source": [
    "def score_optimization(params,clf):\n",
    "    # Load GridSearchCV\n",
    "    search = GridSearchCV(\n",
    "        estimator=clf,\n",
    "        param_grid=params,\n",
    "        n_jobs=-1,\n",
    "        scoring=optimize\n",
    "    )\n",
    "\n",
    "    # Train search object\n",
    "    search.fit(X_train, y_train)\n",
    "\n",
    "    # Heading\n",
    "    print('\\n','-'*40,'\\n',clf.__class__.__name__,'\\n','-'*40)\n",
    "\n",
    "    # Extract best estimator\n",
    "    best = search.best_estimator_\n",
    "    print('Best parameters: \\n\\n',search.best_params_,'\\n')\n",
    "\n",
    "    # Cross-validate on the train data\n",
    "    print(\"TRAIN GROUP\")\n",
    "    train_cv = cross_val_score(X=X_train, y=y_train, \n",
    "                               estimator=best, scoring=recall,cv=3)\n",
    "    print(\"\\nCross-validation recall scores:\",train_cv)\n",
    "    print(\"Mean recall score:\",train_cv.mean())\n",
    "\n",
    "    # Now predict on the test group\n",
    "    print(\"\\nTEST GROUP\")\n",
    "    y_pred = best.fit(X_train, y_train).predict(X_test)\n",
    "    print(\"\\nRecall:\",recall_score(y_test,y_pred))\n",
    "\n",
    "    # Get classification report\n",
    "    print(classification_report(y_test, y_pred))\n",
    "\n",
    "    # Print confusion matrix\n",
    "    conf_matrix = confusion_matrix(y_test,y_pred)\n",
    "    sns.heatmap(conf_matrix, annot=True, fmt='d', cmap=plt.cm.copper)\n",
    "    plt.show()\n",
    "\n",
    "    # Store results\n",
    "    performance.loc[clf.__class__.__name__+'_optimize',:] = [\n",
    "        train_cv.mean(),\n",
    "        recall_score(y_test,y_pred),\n",
    "        conf_matrix[0,0]/conf_matrix[0,:].sum(),\n",
    "        recall_optim(y_test,y_pred)\n",
    "    ]\n",
    "    # Look at the parameters for the top best scores\n",
    "    display(pd.DataFrame(search.cv_results_).iloc[:,4:].\n",
    "            sort_values(by='rank_test_score').head())\n",
    "    display(performance)"
   ]
  },
  {
   "cell_type": "markdown",
   "metadata": {
    "_uuid": "521792c9130d3901f920a09712f3a50245e24621"
   },
   "source": [
    "### LogisticRegression- Optimized."
   ]
  },
  {
   "cell_type": "code",
   "execution_count": 48,
   "metadata": {
    "_uuid": "bf5a79b5320261b9b59cbb1bdea83a6911505522",
    "slideshow": {
     "slide_type": "-"
    }
   },
   "outputs": [
    {
     "name": "stdout",
     "output_type": "stream",
     "text": [
      "\n",
      " ---------------------------------------- \n",
      " LogisticRegression \n",
      " ----------------------------------------\n",
      "Best parameters: \n",
      "\n",
      " {'C': 1, 'class_weight': {1: 1, 0: 0.3}, 'penalty': 'l1', 'solver': 'liblinear'} \n",
      "\n",
      "TRAIN GROUP\n",
      "\n",
      "Cross-validation recall scores: [0.99935507 0.99935507 0.99917667]\n",
      "Mean recall score: 0.9992956033841612\n",
      "\n",
      "TEST GROUP\n",
      "\n",
      "Recall: 0.9795918367346939\n",
      "              precision    recall  f1-score   support\n",
      "\n",
      "           0       1.00      0.98      0.99     56864\n",
      "           1       0.09      0.98      0.16        98\n",
      "\n",
      "   micro avg       0.98      0.98      0.98     56962\n",
      "   macro avg       0.54      0.98      0.57     56962\n",
      "weighted avg       1.00      0.98      0.99     56962\n",
      "\n"
     ]
    },
    {
     "data": {
      "image/png": "[encoded data removed]",
      "text/plain": [
       "<Figure size 432x288 with 2 Axes>"
      ]
     },
     "metadata": {},
     "output_type": "display_data"
    },
    {
     "data": {
      "text/html": [
       "<div>\n",
       "<style scoped>\n",
       "    .dataframe tbody tr th:only-of-type {\n",
       "        vertical-align: middle;\n",
       "    }\n",
       "\n",
       "    .dataframe tbody tr th {\n",
       "        vertical-align: top;\n",
       "    }\n",
       "\n",
       "    .dataframe thead th {\n",
       "        text-align: right;\n",
       "    }\n",
       "</style>\n",
       "<table border=\"1\" class=\"dataframe\">\n",
       "  <thead>\n",
       "    <tr style=\"text-align: right;\">\n",
       "      <th></th>\n",
       "      <th>param_C</th>\n",
       "      <th>param_class_weight</th>\n",
       "      <th>param_penalty</th>\n",
       "      <th>param_solver</th>\n",
       "      <th>params</th>\n",
       "      <th>split0_test_score</th>\n",
       "      <th>split1_test_score</th>\n",
       "      <th>split2_test_score</th>\n",
       "      <th>mean_test_score</th>\n",
       "      <th>std_test_score</th>\n",
       "      <th>rank_test_score</th>\n",
       "      <th>split0_train_score</th>\n",
       "      <th>split1_train_score</th>\n",
       "      <th>split2_train_score</th>\n",
       "      <th>mean_train_score</th>\n",
       "      <th>std_train_score</th>\n",
       "    </tr>\n",
       "  </thead>\n",
       "  <tbody>\n",
       "    <tr>\n",
       "      <th>72</th>\n",
       "      <td>1</td>\n",
       "      <td>{1: 1, 0: 0.3}</td>\n",
       "      <td>l1</td>\n",
       "      <td>liblinear</td>\n",
       "      <td>{'C': 1, 'class_weight': {1: 1, 0: 0.3}, 'pena...</td>\n",
       "      <td>0.795988</td>\n",
       "      <td>0.796125</td>\n",
       "      <td>0.795941</td>\n",
       "      <td>0.796018</td>\n",
       "      <td>0.000078</td>\n",
       "      <td>1</td>\n",
       "      <td>0.796132</td>\n",
       "      <td>0.795949</td>\n",
       "      <td>0.795982</td>\n",
       "      <td>0.796021</td>\n",
       "      <td>0.000079</td>\n",
       "    </tr>\n",
       "    <tr>\n",
       "      <th>60</th>\n",
       "      <td>0.7</td>\n",
       "      <td>{1: 1, 0: 0.3}</td>\n",
       "      <td>l1</td>\n",
       "      <td>liblinear</td>\n",
       "      <td>{'C': 0.7, 'class_weight': {1: 1, 0: 0.3}, 'pe...</td>\n",
       "      <td>0.795894</td>\n",
       "      <td>0.796117</td>\n",
       "      <td>0.795905</td>\n",
       "      <td>0.795972</td>\n",
       "      <td>0.000102</td>\n",
       "      <td>2</td>\n",
       "      <td>0.796073</td>\n",
       "      <td>0.795975</td>\n",
       "      <td>0.795949</td>\n",
       "      <td>0.795999</td>\n",
       "      <td>0.000053</td>\n",
       "    </tr>\n",
       "    <tr>\n",
       "      <th>48</th>\n",
       "      <td>0.5</td>\n",
       "      <td>{1: 1, 0: 0.3}</td>\n",
       "      <td>l1</td>\n",
       "      <td>liblinear</td>\n",
       "      <td>{'C': 0.5, 'class_weight': {1: 1, 0: 0.3}, 'pe...</td>\n",
       "      <td>0.795919</td>\n",
       "      <td>0.796092</td>\n",
       "      <td>0.795886</td>\n",
       "      <td>0.795966</td>\n",
       "      <td>0.000090</td>\n",
       "      <td>3</td>\n",
       "      <td>0.796096</td>\n",
       "      <td>0.795999</td>\n",
       "      <td>0.795942</td>\n",
       "      <td>0.796012</td>\n",
       "      <td>0.000063</td>\n",
       "    </tr>\n",
       "    <tr>\n",
       "      <th>36</th>\n",
       "      <td>0.3</td>\n",
       "      <td>{1: 1, 0: 0.3}</td>\n",
       "      <td>l1</td>\n",
       "      <td>liblinear</td>\n",
       "      <td>{'C': 0.3, 'class_weight': {1: 1, 0: 0.3}, 'pe...</td>\n",
       "      <td>0.795905</td>\n",
       "      <td>0.796021</td>\n",
       "      <td>0.795850</td>\n",
       "      <td>0.795925</td>\n",
       "      <td>0.000071</td>\n",
       "      <td>4</td>\n",
       "      <td>0.796056</td>\n",
       "      <td>0.795907</td>\n",
       "      <td>0.795907</td>\n",
       "      <td>0.795957</td>\n",
       "      <td>0.000071</td>\n",
       "    </tr>\n",
       "    <tr>\n",
       "      <th>76</th>\n",
       "      <td>1</td>\n",
       "      <td>{1: 1, 0: 0.5}</td>\n",
       "      <td>l1</td>\n",
       "      <td>liblinear</td>\n",
       "      <td>{'C': 1, 'class_weight': {1: 1, 0: 0.5}, 'pena...</td>\n",
       "      <td>0.795757</td>\n",
       "      <td>0.796059</td>\n",
       "      <td>0.795757</td>\n",
       "      <td>0.795858</td>\n",
       "      <td>0.000142</td>\n",
       "      <td>5</td>\n",
       "      <td>0.795964</td>\n",
       "      <td>0.795793</td>\n",
       "      <td>0.795837</td>\n",
       "      <td>0.795865</td>\n",
       "      <td>0.000073</td>\n",
       "    </tr>\n",
       "  </tbody>\n",
       "</table>\n",
       "</div>"
      ],
      "text/plain": [
       "   param_C       ...       std_train_score\n",
       "72       1       ...              0.000079\n",
       "60     0.7       ...              0.000053\n",
       "48     0.5       ...              0.000063\n",
       "36     0.3       ...              0.000071\n",
       "76       1       ...              0.000073\n",
       "\n",
       "[5 rows x 16 columns]"
      ]
     },
     "metadata": {},
     "output_type": "display_data"
    },
    {
     "data": {
      "text/html": [
       "<div>\n",
       "<style scoped>\n",
       "    .dataframe tbody tr th:only-of-type {\n",
       "        vertical-align: middle;\n",
       "    }\n",
       "\n",
       "    .dataframe tbody tr th {\n",
       "        vertical-align: top;\n",
       "    }\n",
       "\n",
       "    .dataframe thead th {\n",
       "        text-align: right;\n",
       "    }\n",
       "</style>\n",
       "<table border=\"1\" class=\"dataframe\">\n",
       "  <thead>\n",
       "    <tr style=\"text-align: right;\">\n",
       "      <th></th>\n",
       "      <th>Train_Recall</th>\n",
       "      <th>Test_Recall</th>\n",
       "      <th>Test_Specificity</th>\n",
       "      <th>Optimize</th>\n",
       "    </tr>\n",
       "  </thead>\n",
       "  <tbody>\n",
       "    <tr>\n",
       "      <th>SVC_default</th>\n",
       "      <td>1</td>\n",
       "      <td>0.816327</td>\n",
       "      <td>0.999437</td>\n",
       "      <td>0.652949</td>\n",
       "    </tr>\n",
       "    <tr>\n",
       "      <th>LogisticRegression_default</th>\n",
       "      <td>0.994086</td>\n",
       "      <td>0.979592</td>\n",
       "      <td>0.987233</td>\n",
       "      <td>0.781120</td>\n",
       "    </tr>\n",
       "    <tr>\n",
       "      <th>DecisionTreeClassifier_default</th>\n",
       "      <td>0.99989</td>\n",
       "      <td>0.836735</td>\n",
       "      <td>0.999631</td>\n",
       "      <td>0.669314</td>\n",
       "    </tr>\n",
       "    <tr>\n",
       "      <th>KNeighborsClassifier_default</th>\n",
       "      <td>1</td>\n",
       "      <td>0.857143</td>\n",
       "      <td>0.999138</td>\n",
       "      <td>0.685542</td>\n",
       "    </tr>\n",
       "    <tr>\n",
       "      <th>LogisticRegression_search</th>\n",
       "      <td>1</td>\n",
       "      <td>1</td>\n",
       "      <td>0.973287</td>\n",
       "      <td>0.994657</td>\n",
       "    </tr>\n",
       "    <tr>\n",
       "      <th>LogisticRegression_optimize</th>\n",
       "      <td>0.999296</td>\n",
       "      <td>0.979592</td>\n",
       "      <td>0.982045</td>\n",
       "      <td>0.780082</td>\n",
       "    </tr>\n",
       "  </tbody>\n",
       "</table>\n",
       "</div>"
      ],
      "text/plain": [
       "                               Train_Recall    ...     Optimize\n",
       "SVC_default                               1    ...     0.652949\n",
       "LogisticRegression_default         0.994086    ...     0.781120\n",
       "DecisionTreeClassifier_default      0.99989    ...     0.669314\n",
       "KNeighborsClassifier_default              1    ...     0.685542\n",
       "LogisticRegression_search                 1    ...     0.994657\n",
       "LogisticRegression_optimize        0.999296    ...     0.780082\n",
       "\n",
       "[6 rows x 4 columns]"
      ]
     },
     "metadata": {},
     "output_type": "display_data"
    }
   ],
   "source": [
    "# Parameters to optimize\n",
    "params = [{\n",
    "    'solver': ['newton-cg', 'lbfgs', 'sag'],\n",
    "    'C': [0.3, 0.5, 0.7, 1],\n",
    "    'penalty': ['l2'],\n",
    "    'class_weight':[{1:1,0:0.3},{1:1,0:0.5},{1:1,0:0.7}]\n",
    "    },{\n",
    "    'solver': ['liblinear','saga'],\n",
    "    'C': [0.3, 0.5, 0.7, 1],\n",
    "    'penalty': ['l1','l2'],\n",
    "    'class_weight':[{1:1,0:0.3},{1:1,0:0.5},{1:1,0:0.7}]\n",
    "}]\n",
    "\n",
    "clf = LogisticRegression(\n",
    "    n_jobs=-1 # Use all CPU\n",
    ")\n",
    "\n",
    "score_optimization(clf=clf,params=params)"
   ]
  },
  {
   "cell_type": "markdown",
   "metadata": {
    "_uuid": "d10b9360878d7d9895fdf0d4200da526b21eae95"
   },
   "source": [
    "- Yes!! With our optimize function, specificity in LogisticRegression improved from 93% to 97%, while still having perfect recall.\n",
    "- By looking at these results, there's no doubt that `liblinear, l1` is the best combination, regardless of `C_param`.\n",
    "- Also, `class_weight` for non-frauds set to 0.5 (`1:1,0:5`) seem to rank better. This is likely the result of the custom scoring which now rewards higher precisions."
   ]
  },
  {
   "cell_type": "markdown",
   "metadata": {
    "_uuid": "f1ce6d7f90e79dc82654b2ba1ab2d4e22853c422"
   },
   "source": [
    "\n",
    "\n",
    "#  Choosing Model\n",
    "\n",
    "### Perfect Recall\n",
    "\n",
    "- <u>Judged by perfect recall and high specificity</u>, LogisticRegression had the highest optimized score with 97% specificity and 100% recall.\n",
    "\n",
    "### Best Overall\n",
    "\n",
    "- <u>For a more flexible approach</u>, RandomForestClassifier had the highest combined recall and specificity with only one missed fraud and 99% specificity.\n",
    "\n",
    "# Practical Use for Audiences of Interest\n",
    "\n",
    "- **Bank’s fraud-prevention mechanisms.**\n",
    "(Annoying: Transactions canceled when traveling)\n",
    "\n",
    "- **Data Science students.**\n",
    "Addition to the pool of Kaggle’s forks on this Dataset.\n",
    "\n",
    "# Weak Points & Shortcomings\n",
    "\n",
    "- **Model Processing-** Involves many steps. Steps depend immensely on the data. This doesn’t lend itself to quick iterations. \n",
    "> Could’ve used a processing pipeline function, but that’s a more advanced method I haven’t experimented with.\n",
    "- **Need for Data Reduction-** 270,000 non-frauds were undersampled to 5,000… Definitely affected accuracy. A supercomputer might handle complete set without the need for reduction. \n",
    "SVM and Kneighbors took the longest, even after undersampling the train data.\n"
   ]
  }
 ],
 "metadata": {
  "kernelspec": {
   "display_name": "Python 3",
   "language": "python",
   "name": "python3"
  },
  "language_info": {
   "codemirror_mode": {
    "name": "ipython",
    "version": 3
   },
   "file_extension": ".py",
   "mimetype": "text/x-python",
   "name": "python",
   "nbconvert_exporter": "python",
   "pygments_lexer": "ipython3",
   "version": "3.6.8"
  },
  "toc": {
   "base_numbering": 1,
   "nav_menu": {},
   "number_sections": true,
   "sideBar": true,
   "skip_h1_title": false,
   "title_cell": "Table of Contents",
   "title_sidebar": "Contents",
   "toc_cell": false,
   "toc_position": {},
   "toc_section_display": true,
   "toc_window_display": false
  }
 },
 "nbformat": 4,
 "nbformat_minor": 1
}
